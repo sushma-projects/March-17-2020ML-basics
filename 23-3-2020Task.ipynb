{
 "cells": [
  {
   "cell_type": "code",
   "execution_count": 1,
   "metadata": {},
   "outputs": [
    {
     "data": {
      "text/html": [
       "<div>\n",
       "<style scoped>\n",
       "    .dataframe tbody tr th:only-of-type {\n",
       "        vertical-align: middle;\n",
       "    }\n",
       "\n",
       "    .dataframe tbody tr th {\n",
       "        vertical-align: top;\n",
       "    }\n",
       "\n",
       "    .dataframe thead th {\n",
       "        text-align: right;\n",
       "    }\n",
       "</style>\n",
       "<table border=\"1\" class=\"dataframe\">\n",
       "  <thead>\n",
       "    <tr style=\"text-align: right;\">\n",
       "      <th></th>\n",
       "      <th>policyID</th>\n",
       "      <th>statecode</th>\n",
       "      <th>county</th>\n",
       "      <th>eq_site_limit</th>\n",
       "      <th>hu_site_limit</th>\n",
       "      <th>fl_site_limit</th>\n",
       "      <th>fr_site_limit</th>\n",
       "      <th>tiv_2011</th>\n",
       "      <th>tiv_2012</th>\n",
       "      <th>eq_site_deductible</th>\n",
       "      <th>hu_site_deductible</th>\n",
       "      <th>fl_site_deductible</th>\n",
       "      <th>fr_site_deductible</th>\n",
       "      <th>point_latitude</th>\n",
       "      <th>point_longitude</th>\n",
       "      <th>line</th>\n",
       "      <th>construction</th>\n",
       "      <th>point_granularity</th>\n",
       "    </tr>\n",
       "  </thead>\n",
       "  <tbody>\n",
       "    <tr>\n",
       "      <th>0</th>\n",
       "      <td>119736</td>\n",
       "      <td>FL</td>\n",
       "      <td>CLAY COUNTY</td>\n",
       "      <td>498960.0</td>\n",
       "      <td>498960.00</td>\n",
       "      <td>498960.0</td>\n",
       "      <td>498960.0</td>\n",
       "      <td>498960.00</td>\n",
       "      <td>792148.90</td>\n",
       "      <td>0.0</td>\n",
       "      <td>9979.2</td>\n",
       "      <td>0.0</td>\n",
       "      <td>0</td>\n",
       "      <td>30.102261</td>\n",
       "      <td>-81.711777</td>\n",
       "      <td>Residential</td>\n",
       "      <td>Masonry</td>\n",
       "      <td>1</td>\n",
       "    </tr>\n",
       "    <tr>\n",
       "      <th>1</th>\n",
       "      <td>448094</td>\n",
       "      <td>FL</td>\n",
       "      <td>CLAY COUNTY</td>\n",
       "      <td>1322376.3</td>\n",
       "      <td>1322376.30</td>\n",
       "      <td>1322376.3</td>\n",
       "      <td>1322376.3</td>\n",
       "      <td>1322376.30</td>\n",
       "      <td>1438163.57</td>\n",
       "      <td>0.0</td>\n",
       "      <td>0.0</td>\n",
       "      <td>0.0</td>\n",
       "      <td>0</td>\n",
       "      <td>30.063936</td>\n",
       "      <td>-81.707664</td>\n",
       "      <td>Residential</td>\n",
       "      <td>Masonry</td>\n",
       "      <td>3</td>\n",
       "    </tr>\n",
       "    <tr>\n",
       "      <th>2</th>\n",
       "      <td>206893</td>\n",
       "      <td>FL</td>\n",
       "      <td>CLAY COUNTY</td>\n",
       "      <td>190724.4</td>\n",
       "      <td>190724.40</td>\n",
       "      <td>190724.4</td>\n",
       "      <td>190724.4</td>\n",
       "      <td>190724.40</td>\n",
       "      <td>192476.78</td>\n",
       "      <td>0.0</td>\n",
       "      <td>0.0</td>\n",
       "      <td>0.0</td>\n",
       "      <td>0</td>\n",
       "      <td>30.089579</td>\n",
       "      <td>-81.700455</td>\n",
       "      <td>Residential</td>\n",
       "      <td>Wood</td>\n",
       "      <td>1</td>\n",
       "    </tr>\n",
       "    <tr>\n",
       "      <th>3</th>\n",
       "      <td>333743</td>\n",
       "      <td>FL</td>\n",
       "      <td>CLAY COUNTY</td>\n",
       "      <td>0.0</td>\n",
       "      <td>79520.76</td>\n",
       "      <td>0.0</td>\n",
       "      <td>0.0</td>\n",
       "      <td>79520.76</td>\n",
       "      <td>86854.48</td>\n",
       "      <td>0.0</td>\n",
       "      <td>0.0</td>\n",
       "      <td>0.0</td>\n",
       "      <td>0</td>\n",
       "      <td>30.063236</td>\n",
       "      <td>-81.707703</td>\n",
       "      <td>Residential</td>\n",
       "      <td>Wood</td>\n",
       "      <td>3</td>\n",
       "    </tr>\n",
       "    <tr>\n",
       "      <th>4</th>\n",
       "      <td>172534</td>\n",
       "      <td>FL</td>\n",
       "      <td>CLAY COUNTY</td>\n",
       "      <td>0.0</td>\n",
       "      <td>254281.50</td>\n",
       "      <td>0.0</td>\n",
       "      <td>254281.5</td>\n",
       "      <td>254281.50</td>\n",
       "      <td>246144.49</td>\n",
       "      <td>0.0</td>\n",
       "      <td>0.0</td>\n",
       "      <td>0.0</td>\n",
       "      <td>0</td>\n",
       "      <td>30.060614</td>\n",
       "      <td>-81.702675</td>\n",
       "      <td>Residential</td>\n",
       "      <td>Wood</td>\n",
       "      <td>1</td>\n",
       "    </tr>\n",
       "    <tr>\n",
       "      <th>...</th>\n",
       "      <td>...</td>\n",
       "      <td>...</td>\n",
       "      <td>...</td>\n",
       "      <td>...</td>\n",
       "      <td>...</td>\n",
       "      <td>...</td>\n",
       "      <td>...</td>\n",
       "      <td>...</td>\n",
       "      <td>...</td>\n",
       "      <td>...</td>\n",
       "      <td>...</td>\n",
       "      <td>...</td>\n",
       "      <td>...</td>\n",
       "      <td>...</td>\n",
       "      <td>...</td>\n",
       "      <td>...</td>\n",
       "      <td>...</td>\n",
       "      <td>...</td>\n",
       "    </tr>\n",
       "    <tr>\n",
       "      <th>36629</th>\n",
       "      <td>404309</td>\n",
       "      <td>FL</td>\n",
       "      <td>PINELLAS COUNTY</td>\n",
       "      <td>0.0</td>\n",
       "      <td>88722.00</td>\n",
       "      <td>0.0</td>\n",
       "      <td>88722.0</td>\n",
       "      <td>88722.00</td>\n",
       "      <td>155065.65</td>\n",
       "      <td>0.0</td>\n",
       "      <td>0.0</td>\n",
       "      <td>0.0</td>\n",
       "      <td>0</td>\n",
       "      <td>28.122885</td>\n",
       "      <td>-82.770218</td>\n",
       "      <td>Residential</td>\n",
       "      <td>Wood</td>\n",
       "      <td>3</td>\n",
       "    </tr>\n",
       "    <tr>\n",
       "      <th>36630</th>\n",
       "      <td>465875</td>\n",
       "      <td>FL</td>\n",
       "      <td>PINELLAS COUNTY</td>\n",
       "      <td>1297057.5</td>\n",
       "      <td>1297057.50</td>\n",
       "      <td>1297057.5</td>\n",
       "      <td>1297057.5</td>\n",
       "      <td>1297057.50</td>\n",
       "      <td>1577500.79</td>\n",
       "      <td>0.0</td>\n",
       "      <td>0.0</td>\n",
       "      <td>0.0</td>\n",
       "      <td>0</td>\n",
       "      <td>28.080900</td>\n",
       "      <td>-82.758800</td>\n",
       "      <td>Residential</td>\n",
       "      <td>Masonry</td>\n",
       "      <td>1</td>\n",
       "    </tr>\n",
       "    <tr>\n",
       "      <th>36631</th>\n",
       "      <td>791209</td>\n",
       "      <td>FL</td>\n",
       "      <td>PINELLAS COUNTY</td>\n",
       "      <td>173286.9</td>\n",
       "      <td>173286.90</td>\n",
       "      <td>0.0</td>\n",
       "      <td>0.0</td>\n",
       "      <td>173286.90</td>\n",
       "      <td>205527.97</td>\n",
       "      <td>0.0</td>\n",
       "      <td>0.0</td>\n",
       "      <td>0.0</td>\n",
       "      <td>0</td>\n",
       "      <td>28.110550</td>\n",
       "      <td>-82.766360</td>\n",
       "      <td>Residential</td>\n",
       "      <td>Wood</td>\n",
       "      <td>4</td>\n",
       "    </tr>\n",
       "    <tr>\n",
       "      <th>36632</th>\n",
       "      <td>322627</td>\n",
       "      <td>FL</td>\n",
       "      <td>PINELLAS COUNTY</td>\n",
       "      <td>1499781.6</td>\n",
       "      <td>1499781.60</td>\n",
       "      <td>0.0</td>\n",
       "      <td>0.0</td>\n",
       "      <td>1499781.60</td>\n",
       "      <td>1768782.43</td>\n",
       "      <td>0.0</td>\n",
       "      <td>0.0</td>\n",
       "      <td>0.0</td>\n",
       "      <td>0</td>\n",
       "      <td>28.089415</td>\n",
       "      <td>-82.697411</td>\n",
       "      <td>Residential</td>\n",
       "      <td>Masonry</td>\n",
       "      <td>3</td>\n",
       "    </tr>\n",
       "    <tr>\n",
       "      <th>36633</th>\n",
       "      <td>398149</td>\n",
       "      <td>FL</td>\n",
       "      <td>PINELLAS COUNTY</td>\n",
       "      <td>373488.3</td>\n",
       "      <td>373488.30</td>\n",
       "      <td>0.0</td>\n",
       "      <td>0.0</td>\n",
       "      <td>373488.30</td>\n",
       "      <td>596003.67</td>\n",
       "      <td>0.0</td>\n",
       "      <td>0.0</td>\n",
       "      <td>0.0</td>\n",
       "      <td>0</td>\n",
       "      <td>28.064440</td>\n",
       "      <td>-82.774590</td>\n",
       "      <td>Residential</td>\n",
       "      <td>Masonry</td>\n",
       "      <td>1</td>\n",
       "    </tr>\n",
       "  </tbody>\n",
       "</table>\n",
       "<p>36634 rows × 18 columns</p>\n",
       "</div>"
      ],
      "text/plain": [
       "       policyID statecode           county  eq_site_limit  hu_site_limit  \\\n",
       "0        119736        FL      CLAY COUNTY       498960.0      498960.00   \n",
       "1        448094        FL      CLAY COUNTY      1322376.3     1322376.30   \n",
       "2        206893        FL      CLAY COUNTY       190724.4      190724.40   \n",
       "3        333743        FL      CLAY COUNTY            0.0       79520.76   \n",
       "4        172534        FL      CLAY COUNTY            0.0      254281.50   \n",
       "...         ...       ...              ...            ...            ...   \n",
       "36629    404309        FL  PINELLAS COUNTY            0.0       88722.00   \n",
       "36630    465875        FL  PINELLAS COUNTY      1297057.5     1297057.50   \n",
       "36631    791209        FL  PINELLAS COUNTY       173286.9      173286.90   \n",
       "36632    322627        FL  PINELLAS COUNTY      1499781.6     1499781.60   \n",
       "36633    398149        FL  PINELLAS COUNTY       373488.3      373488.30   \n",
       "\n",
       "       fl_site_limit  fr_site_limit    tiv_2011    tiv_2012  \\\n",
       "0           498960.0       498960.0   498960.00   792148.90   \n",
       "1          1322376.3      1322376.3  1322376.30  1438163.57   \n",
       "2           190724.4       190724.4   190724.40   192476.78   \n",
       "3                0.0            0.0    79520.76    86854.48   \n",
       "4                0.0       254281.5   254281.50   246144.49   \n",
       "...              ...            ...         ...         ...   \n",
       "36629            0.0        88722.0    88722.00   155065.65   \n",
       "36630      1297057.5      1297057.5  1297057.50  1577500.79   \n",
       "36631            0.0            0.0   173286.90   205527.97   \n",
       "36632            0.0            0.0  1499781.60  1768782.43   \n",
       "36633            0.0            0.0   373488.30   596003.67   \n",
       "\n",
       "       eq_site_deductible  hu_site_deductible  fl_site_deductible  \\\n",
       "0                     0.0              9979.2                 0.0   \n",
       "1                     0.0                 0.0                 0.0   \n",
       "2                     0.0                 0.0                 0.0   \n",
       "3                     0.0                 0.0                 0.0   \n",
       "4                     0.0                 0.0                 0.0   \n",
       "...                   ...                 ...                 ...   \n",
       "36629                 0.0                 0.0                 0.0   \n",
       "36630                 0.0                 0.0                 0.0   \n",
       "36631                 0.0                 0.0                 0.0   \n",
       "36632                 0.0                 0.0                 0.0   \n",
       "36633                 0.0                 0.0                 0.0   \n",
       "\n",
       "       fr_site_deductible  point_latitude  point_longitude         line  \\\n",
       "0                       0       30.102261       -81.711777  Residential   \n",
       "1                       0       30.063936       -81.707664  Residential   \n",
       "2                       0       30.089579       -81.700455  Residential   \n",
       "3                       0       30.063236       -81.707703  Residential   \n",
       "4                       0       30.060614       -81.702675  Residential   \n",
       "...                   ...             ...              ...          ...   \n",
       "36629                   0       28.122885       -82.770218  Residential   \n",
       "36630                   0       28.080900       -82.758800  Residential   \n",
       "36631                   0       28.110550       -82.766360  Residential   \n",
       "36632                   0       28.089415       -82.697411  Residential   \n",
       "36633                   0       28.064440       -82.774590  Residential   \n",
       "\n",
       "      construction  point_granularity  \n",
       "0          Masonry                  1  \n",
       "1          Masonry                  3  \n",
       "2             Wood                  1  \n",
       "3             Wood                  3  \n",
       "4             Wood                  1  \n",
       "...            ...                ...  \n",
       "36629         Wood                  3  \n",
       "36630      Masonry                  1  \n",
       "36631         Wood                  4  \n",
       "36632      Masonry                  3  \n",
       "36633      Masonry                  1  \n",
       "\n",
       "[36634 rows x 18 columns]"
      ]
     },
     "execution_count": 1,
     "metadata": {},
     "output_type": "execute_result"
    }
   ],
   "source": [
    "import numpy as np\n",
    "import pandas as pd\n",
    "data_fl = pd.read_csv(\"FL_insurance_sample.csv\")\n",
    "data_fl"
   ]
  },
  {
   "cell_type": "code",
   "execution_count": 3,
   "metadata": {},
   "outputs": [
    {
     "name": "stdout",
     "output_type": "stream",
     "text": [
      "1.18.1\n",
      "1.0.0\n"
     ]
    }
   ],
   "source": [
    "#numpy version\n",
    "print(np.__version__)\n",
    "#pandas version\n",
    "print(pd.__version__)"
   ]
  },
  {
   "cell_type": "code",
   "execution_count": 4,
   "metadata": {},
   "outputs": [
    {
     "name": "stdout",
     "output_type": "stream",
     "text": [
      "<class 'pandas.core.frame.DataFrame'>\n"
     ]
    }
   ],
   "source": [
    "print(type(data_fl))"
   ]
  },
  {
   "cell_type": "code",
   "execution_count": 5,
   "metadata": {},
   "outputs": [
    {
     "name": "stdout",
     "output_type": "stream",
     "text": [
      "(36634, 18)\n"
     ]
    }
   ],
   "source": [
    "print(data_fl.shape)"
   ]
  },
  {
   "cell_type": "code",
   "execution_count": 6,
   "metadata": {},
   "outputs": [
    {
     "name": "stdout",
     "output_type": "stream",
     "text": [
      "36634\n",
      "18\n"
     ]
    }
   ],
   "source": [
    "print(data_fl.shape[0])\n",
    "print(data_fl.shape[1])"
   ]
  },
  {
   "cell_type": "code",
   "execution_count": 8,
   "metadata": {},
   "outputs": [
    {
     "name": "stdout",
     "output_type": "stream",
     "text": [
      "Index(['policyID', 'statecode', 'county', 'eq_site_limit', 'hu_site_limit',\n",
      "       'fl_site_limit', 'fr_site_limit', 'tiv_2011', 'tiv_2012',\n",
      "       'eq_site_deductible', 'hu_site_deductible', 'fl_site_deductible',\n",
      "       'fr_site_deductible', 'point_latitude', 'point_longitude', 'line',\n",
      "       'construction', 'point_granularity'],\n",
      "      dtype='object')\n",
      "RangeIndex(start=0, stop=36634, step=1)\n"
     ]
    }
   ],
   "source": [
    "print(data_fl.columns)\n",
    "print(data_fl.index)"
   ]
  },
  {
   "cell_type": "code",
   "execution_count": 9,
   "metadata": {},
   "outputs": [
    {
     "name": "stdout",
     "output_type": "stream",
     "text": [
      "policyID                int64\n",
      "statecode              object\n",
      "county                 object\n",
      "eq_site_limit         float64\n",
      "hu_site_limit         float64\n",
      "fl_site_limit         float64\n",
      "fr_site_limit         float64\n",
      "tiv_2011              float64\n",
      "tiv_2012              float64\n",
      "eq_site_deductible    float64\n",
      "hu_site_deductible    float64\n",
      "fl_site_deductible    float64\n",
      "fr_site_deductible      int64\n",
      "point_latitude        float64\n",
      "point_longitude       float64\n",
      "line                   object\n",
      "construction           object\n",
      "point_granularity       int64\n",
      "dtype: object\n",
      "<class 'pandas.core.series.Series'>\n"
     ]
    }
   ],
   "source": [
    "print(data_fl.dtypes)\n",
    "print(type(data_fl.dtypes))"
   ]
  },
  {
   "cell_type": "code",
   "execution_count": 10,
   "metadata": {},
   "outputs": [
    {
     "name": "stdout",
     "output_type": "stream",
     "text": [
      "int64\n"
     ]
    }
   ],
   "source": [
    "print(data_fl.dtypes[0])"
   ]
  },
  {
   "cell_type": "code",
   "execution_count": 11,
   "metadata": {},
   "outputs": [
    {
     "name": "stdout",
     "output_type": "stream",
     "text": [
      "int64\n"
     ]
    }
   ],
   "source": [
    "print(data_fl.dtypes[-1])"
   ]
  },
  {
   "cell_type": "markdown",
   "metadata": {},
   "source": [
    "#### Observe data"
   ]
  },
  {
   "cell_type": "code",
   "execution_count": 14,
   "metadata": {},
   "outputs": [
    {
     "data": {
      "text/html": [
       "<div>\n",
       "<style scoped>\n",
       "    .dataframe tbody tr th:only-of-type {\n",
       "        vertical-align: middle;\n",
       "    }\n",
       "\n",
       "    .dataframe tbody tr th {\n",
       "        vertical-align: top;\n",
       "    }\n",
       "\n",
       "    .dataframe thead th {\n",
       "        text-align: right;\n",
       "    }\n",
       "</style>\n",
       "<table border=\"1\" class=\"dataframe\">\n",
       "  <thead>\n",
       "    <tr style=\"text-align: right;\">\n",
       "      <th></th>\n",
       "      <th>policyID</th>\n",
       "      <th>statecode</th>\n",
       "      <th>county</th>\n",
       "      <th>eq_site_limit</th>\n",
       "      <th>hu_site_limit</th>\n",
       "      <th>fl_site_limit</th>\n",
       "      <th>fr_site_limit</th>\n",
       "      <th>tiv_2011</th>\n",
       "      <th>tiv_2012</th>\n",
       "      <th>eq_site_deductible</th>\n",
       "      <th>hu_site_deductible</th>\n",
       "      <th>fl_site_deductible</th>\n",
       "      <th>fr_site_deductible</th>\n",
       "      <th>point_latitude</th>\n",
       "      <th>point_longitude</th>\n",
       "      <th>line</th>\n",
       "      <th>construction</th>\n",
       "      <th>point_granularity</th>\n",
       "    </tr>\n",
       "  </thead>\n",
       "  <tbody>\n",
       "    <tr>\n",
       "      <th>0</th>\n",
       "      <td>119736</td>\n",
       "      <td>FL</td>\n",
       "      <td>CLAY COUNTY</td>\n",
       "      <td>498960.0</td>\n",
       "      <td>498960.00</td>\n",
       "      <td>498960.0</td>\n",
       "      <td>498960.0</td>\n",
       "      <td>498960.00</td>\n",
       "      <td>792148.90</td>\n",
       "      <td>0.0</td>\n",
       "      <td>9979.2</td>\n",
       "      <td>0.0</td>\n",
       "      <td>0</td>\n",
       "      <td>30.102261</td>\n",
       "      <td>-81.711777</td>\n",
       "      <td>Residential</td>\n",
       "      <td>Masonry</td>\n",
       "      <td>1</td>\n",
       "    </tr>\n",
       "    <tr>\n",
       "      <th>1</th>\n",
       "      <td>448094</td>\n",
       "      <td>FL</td>\n",
       "      <td>CLAY COUNTY</td>\n",
       "      <td>1322376.3</td>\n",
       "      <td>1322376.30</td>\n",
       "      <td>1322376.3</td>\n",
       "      <td>1322376.3</td>\n",
       "      <td>1322376.30</td>\n",
       "      <td>1438163.57</td>\n",
       "      <td>0.0</td>\n",
       "      <td>0.0</td>\n",
       "      <td>0.0</td>\n",
       "      <td>0</td>\n",
       "      <td>30.063936</td>\n",
       "      <td>-81.707664</td>\n",
       "      <td>Residential</td>\n",
       "      <td>Masonry</td>\n",
       "      <td>3</td>\n",
       "    </tr>\n",
       "    <tr>\n",
       "      <th>2</th>\n",
       "      <td>206893</td>\n",
       "      <td>FL</td>\n",
       "      <td>CLAY COUNTY</td>\n",
       "      <td>190724.4</td>\n",
       "      <td>190724.40</td>\n",
       "      <td>190724.4</td>\n",
       "      <td>190724.4</td>\n",
       "      <td>190724.40</td>\n",
       "      <td>192476.78</td>\n",
       "      <td>0.0</td>\n",
       "      <td>0.0</td>\n",
       "      <td>0.0</td>\n",
       "      <td>0</td>\n",
       "      <td>30.089579</td>\n",
       "      <td>-81.700455</td>\n",
       "      <td>Residential</td>\n",
       "      <td>Wood</td>\n",
       "      <td>1</td>\n",
       "    </tr>\n",
       "    <tr>\n",
       "      <th>3</th>\n",
       "      <td>333743</td>\n",
       "      <td>FL</td>\n",
       "      <td>CLAY COUNTY</td>\n",
       "      <td>0.0</td>\n",
       "      <td>79520.76</td>\n",
       "      <td>0.0</td>\n",
       "      <td>0.0</td>\n",
       "      <td>79520.76</td>\n",
       "      <td>86854.48</td>\n",
       "      <td>0.0</td>\n",
       "      <td>0.0</td>\n",
       "      <td>0.0</td>\n",
       "      <td>0</td>\n",
       "      <td>30.063236</td>\n",
       "      <td>-81.707703</td>\n",
       "      <td>Residential</td>\n",
       "      <td>Wood</td>\n",
       "      <td>3</td>\n",
       "    </tr>\n",
       "    <tr>\n",
       "      <th>4</th>\n",
       "      <td>172534</td>\n",
       "      <td>FL</td>\n",
       "      <td>CLAY COUNTY</td>\n",
       "      <td>0.0</td>\n",
       "      <td>254281.50</td>\n",
       "      <td>0.0</td>\n",
       "      <td>254281.5</td>\n",
       "      <td>254281.50</td>\n",
       "      <td>246144.49</td>\n",
       "      <td>0.0</td>\n",
       "      <td>0.0</td>\n",
       "      <td>0.0</td>\n",
       "      <td>0</td>\n",
       "      <td>30.060614</td>\n",
       "      <td>-81.702675</td>\n",
       "      <td>Residential</td>\n",
       "      <td>Wood</td>\n",
       "      <td>1</td>\n",
       "    </tr>\n",
       "  </tbody>\n",
       "</table>\n",
       "</div>"
      ],
      "text/plain": [
       "   policyID statecode       county  eq_site_limit  hu_site_limit  \\\n",
       "0    119736        FL  CLAY COUNTY       498960.0      498960.00   \n",
       "1    448094        FL  CLAY COUNTY      1322376.3     1322376.30   \n",
       "2    206893        FL  CLAY COUNTY       190724.4      190724.40   \n",
       "3    333743        FL  CLAY COUNTY            0.0       79520.76   \n",
       "4    172534        FL  CLAY COUNTY            0.0      254281.50   \n",
       "\n",
       "   fl_site_limit  fr_site_limit    tiv_2011    tiv_2012  eq_site_deductible  \\\n",
       "0       498960.0       498960.0   498960.00   792148.90                 0.0   \n",
       "1      1322376.3      1322376.3  1322376.30  1438163.57                 0.0   \n",
       "2       190724.4       190724.4   190724.40   192476.78                 0.0   \n",
       "3            0.0            0.0    79520.76    86854.48                 0.0   \n",
       "4            0.0       254281.5   254281.50   246144.49                 0.0   \n",
       "\n",
       "   hu_site_deductible  fl_site_deductible  fr_site_deductible  point_latitude  \\\n",
       "0              9979.2                 0.0                   0       30.102261   \n",
       "1                 0.0                 0.0                   0       30.063936   \n",
       "2                 0.0                 0.0                   0       30.089579   \n",
       "3                 0.0                 0.0                   0       30.063236   \n",
       "4                 0.0                 0.0                   0       30.060614   \n",
       "\n",
       "   point_longitude         line construction  point_granularity  \n",
       "0       -81.711777  Residential      Masonry                  1  \n",
       "1       -81.707664  Residential      Masonry                  3  \n",
       "2       -81.700455  Residential         Wood                  1  \n",
       "3       -81.707703  Residential         Wood                  3  \n",
       "4       -81.702675  Residential         Wood                  1  "
      ]
     },
     "execution_count": 14,
     "metadata": {},
     "output_type": "execute_result"
    }
   ],
   "source": [
    "data_fl.head(5)"
   ]
  },
  {
   "cell_type": "code",
   "execution_count": 16,
   "metadata": {},
   "outputs": [
    {
     "data": {
      "text/html": [
       "<div>\n",
       "<style scoped>\n",
       "    .dataframe tbody tr th:only-of-type {\n",
       "        vertical-align: middle;\n",
       "    }\n",
       "\n",
       "    .dataframe tbody tr th {\n",
       "        vertical-align: top;\n",
       "    }\n",
       "\n",
       "    .dataframe thead th {\n",
       "        text-align: right;\n",
       "    }\n",
       "</style>\n",
       "<table border=\"1\" class=\"dataframe\">\n",
       "  <thead>\n",
       "    <tr style=\"text-align: right;\">\n",
       "      <th></th>\n",
       "      <th>policyID</th>\n",
       "      <th>statecode</th>\n",
       "      <th>county</th>\n",
       "      <th>eq_site_limit</th>\n",
       "      <th>hu_site_limit</th>\n",
       "      <th>fl_site_limit</th>\n",
       "      <th>fr_site_limit</th>\n",
       "      <th>tiv_2011</th>\n",
       "      <th>tiv_2012</th>\n",
       "      <th>eq_site_deductible</th>\n",
       "      <th>hu_site_deductible</th>\n",
       "      <th>fl_site_deductible</th>\n",
       "      <th>fr_site_deductible</th>\n",
       "      <th>point_latitude</th>\n",
       "      <th>point_longitude</th>\n",
       "      <th>line</th>\n",
       "      <th>construction</th>\n",
       "      <th>point_granularity</th>\n",
       "    </tr>\n",
       "  </thead>\n",
       "  <tbody>\n",
       "    <tr>\n",
       "      <th>36630</th>\n",
       "      <td>465875</td>\n",
       "      <td>FL</td>\n",
       "      <td>PINELLAS COUNTY</td>\n",
       "      <td>1297057.5</td>\n",
       "      <td>1297057.5</td>\n",
       "      <td>1297057.5</td>\n",
       "      <td>1297057.5</td>\n",
       "      <td>1297057.5</td>\n",
       "      <td>1577500.79</td>\n",
       "      <td>0.0</td>\n",
       "      <td>0.0</td>\n",
       "      <td>0.0</td>\n",
       "      <td>0</td>\n",
       "      <td>28.080900</td>\n",
       "      <td>-82.758800</td>\n",
       "      <td>Residential</td>\n",
       "      <td>Masonry</td>\n",
       "      <td>1</td>\n",
       "    </tr>\n",
       "    <tr>\n",
       "      <th>36631</th>\n",
       "      <td>791209</td>\n",
       "      <td>FL</td>\n",
       "      <td>PINELLAS COUNTY</td>\n",
       "      <td>173286.9</td>\n",
       "      <td>173286.9</td>\n",
       "      <td>0.0</td>\n",
       "      <td>0.0</td>\n",
       "      <td>173286.9</td>\n",
       "      <td>205527.97</td>\n",
       "      <td>0.0</td>\n",
       "      <td>0.0</td>\n",
       "      <td>0.0</td>\n",
       "      <td>0</td>\n",
       "      <td>28.110550</td>\n",
       "      <td>-82.766360</td>\n",
       "      <td>Residential</td>\n",
       "      <td>Wood</td>\n",
       "      <td>4</td>\n",
       "    </tr>\n",
       "    <tr>\n",
       "      <th>36632</th>\n",
       "      <td>322627</td>\n",
       "      <td>FL</td>\n",
       "      <td>PINELLAS COUNTY</td>\n",
       "      <td>1499781.6</td>\n",
       "      <td>1499781.6</td>\n",
       "      <td>0.0</td>\n",
       "      <td>0.0</td>\n",
       "      <td>1499781.6</td>\n",
       "      <td>1768782.43</td>\n",
       "      <td>0.0</td>\n",
       "      <td>0.0</td>\n",
       "      <td>0.0</td>\n",
       "      <td>0</td>\n",
       "      <td>28.089415</td>\n",
       "      <td>-82.697411</td>\n",
       "      <td>Residential</td>\n",
       "      <td>Masonry</td>\n",
       "      <td>3</td>\n",
       "    </tr>\n",
       "    <tr>\n",
       "      <th>36633</th>\n",
       "      <td>398149</td>\n",
       "      <td>FL</td>\n",
       "      <td>PINELLAS COUNTY</td>\n",
       "      <td>373488.3</td>\n",
       "      <td>373488.3</td>\n",
       "      <td>0.0</td>\n",
       "      <td>0.0</td>\n",
       "      <td>373488.3</td>\n",
       "      <td>596003.67</td>\n",
       "      <td>0.0</td>\n",
       "      <td>0.0</td>\n",
       "      <td>0.0</td>\n",
       "      <td>0</td>\n",
       "      <td>28.064440</td>\n",
       "      <td>-82.774590</td>\n",
       "      <td>Residential</td>\n",
       "      <td>Masonry</td>\n",
       "      <td>1</td>\n",
       "    </tr>\n",
       "  </tbody>\n",
       "</table>\n",
       "</div>"
      ],
      "text/plain": [
       "       policyID statecode           county  eq_site_limit  hu_site_limit  \\\n",
       "36630    465875        FL  PINELLAS COUNTY      1297057.5      1297057.5   \n",
       "36631    791209        FL  PINELLAS COUNTY       173286.9       173286.9   \n",
       "36632    322627        FL  PINELLAS COUNTY      1499781.6      1499781.6   \n",
       "36633    398149        FL  PINELLAS COUNTY       373488.3       373488.3   \n",
       "\n",
       "       fl_site_limit  fr_site_limit   tiv_2011    tiv_2012  \\\n",
       "36630      1297057.5      1297057.5  1297057.5  1577500.79   \n",
       "36631            0.0            0.0   173286.9   205527.97   \n",
       "36632            0.0            0.0  1499781.6  1768782.43   \n",
       "36633            0.0            0.0   373488.3   596003.67   \n",
       "\n",
       "       eq_site_deductible  hu_site_deductible  fl_site_deductible  \\\n",
       "36630                 0.0                 0.0                 0.0   \n",
       "36631                 0.0                 0.0                 0.0   \n",
       "36632                 0.0                 0.0                 0.0   \n",
       "36633                 0.0                 0.0                 0.0   \n",
       "\n",
       "       fr_site_deductible  point_latitude  point_longitude         line  \\\n",
       "36630                   0       28.080900       -82.758800  Residential   \n",
       "36631                   0       28.110550       -82.766360  Residential   \n",
       "36632                   0       28.089415       -82.697411  Residential   \n",
       "36633                   0       28.064440       -82.774590  Residential   \n",
       "\n",
       "      construction  point_granularity  \n",
       "36630      Masonry                  1  \n",
       "36631         Wood                  4  \n",
       "36632      Masonry                  3  \n",
       "36633      Masonry                  1  "
      ]
     },
     "execution_count": 16,
     "metadata": {},
     "output_type": "execute_result"
    }
   ],
   "source": [
    "data_fl.tail(4)"
   ]
  },
  {
   "cell_type": "code",
   "execution_count": 18,
   "metadata": {},
   "outputs": [
    {
     "data": {
      "text/html": [
       "<div>\n",
       "<style scoped>\n",
       "    .dataframe tbody tr th:only-of-type {\n",
       "        vertical-align: middle;\n",
       "    }\n",
       "\n",
       "    .dataframe tbody tr th {\n",
       "        vertical-align: top;\n",
       "    }\n",
       "\n",
       "    .dataframe thead th {\n",
       "        text-align: right;\n",
       "    }\n",
       "</style>\n",
       "<table border=\"1\" class=\"dataframe\">\n",
       "  <thead>\n",
       "    <tr style=\"text-align: right;\">\n",
       "      <th></th>\n",
       "      <th>policyID</th>\n",
       "      <th>statecode</th>\n",
       "      <th>county</th>\n",
       "      <th>eq_site_limit</th>\n",
       "      <th>hu_site_limit</th>\n",
       "      <th>fl_site_limit</th>\n",
       "      <th>fr_site_limit</th>\n",
       "      <th>tiv_2011</th>\n",
       "      <th>tiv_2012</th>\n",
       "      <th>eq_site_deductible</th>\n",
       "      <th>hu_site_deductible</th>\n",
       "      <th>fl_site_deductible</th>\n",
       "      <th>fr_site_deductible</th>\n",
       "      <th>point_latitude</th>\n",
       "      <th>point_longitude</th>\n",
       "      <th>line</th>\n",
       "      <th>construction</th>\n",
       "      <th>point_granularity</th>\n",
       "    </tr>\n",
       "  </thead>\n",
       "  <tbody>\n",
       "    <tr>\n",
       "      <th>14705</th>\n",
       "      <td>215232</td>\n",
       "      <td>FL</td>\n",
       "      <td>BREVARD COUNTY</td>\n",
       "      <td>0.0</td>\n",
       "      <td>0.0</td>\n",
       "      <td>0.0</td>\n",
       "      <td>2007180.0</td>\n",
       "      <td>2007180.0</td>\n",
       "      <td>2368271.68</td>\n",
       "      <td>0.0</td>\n",
       "      <td>0.0</td>\n",
       "      <td>0.0</td>\n",
       "      <td>0</td>\n",
       "      <td>28.3962</td>\n",
       "      <td>-80.6064</td>\n",
       "      <td>Commercial</td>\n",
       "      <td>Reinforced Masonry</td>\n",
       "      <td>4</td>\n",
       "    </tr>\n",
       "  </tbody>\n",
       "</table>\n",
       "</div>"
      ],
      "text/plain": [
       "       policyID statecode          county  eq_site_limit  hu_site_limit  \\\n",
       "14705    215232        FL  BREVARD COUNTY            0.0            0.0   \n",
       "\n",
       "       fl_site_limit  fr_site_limit   tiv_2011    tiv_2012  \\\n",
       "14705            0.0      2007180.0  2007180.0  2368271.68   \n",
       "\n",
       "       eq_site_deductible  hu_site_deductible  fl_site_deductible  \\\n",
       "14705                 0.0                 0.0                 0.0   \n",
       "\n",
       "       fr_site_deductible  point_latitude  point_longitude        line  \\\n",
       "14705                   0         28.3962         -80.6064  Commercial   \n",
       "\n",
       "             construction  point_granularity  \n",
       "14705  Reinforced Masonry                  4  "
      ]
     },
     "execution_count": 18,
     "metadata": {},
     "output_type": "execute_result"
    }
   ],
   "source": [
    "#by default it will print only 1 row\n",
    "data_fl.sample()"
   ]
  },
  {
   "cell_type": "code",
   "execution_count": 19,
   "metadata": {},
   "outputs": [
    {
     "data": {
      "text/html": [
       "<div>\n",
       "<style scoped>\n",
       "    .dataframe tbody tr th:only-of-type {\n",
       "        vertical-align: middle;\n",
       "    }\n",
       "\n",
       "    .dataframe tbody tr th {\n",
       "        vertical-align: top;\n",
       "    }\n",
       "\n",
       "    .dataframe thead th {\n",
       "        text-align: right;\n",
       "    }\n",
       "</style>\n",
       "<table border=\"1\" class=\"dataframe\">\n",
       "  <thead>\n",
       "    <tr style=\"text-align: right;\">\n",
       "      <th></th>\n",
       "      <th>policyID</th>\n",
       "      <th>statecode</th>\n",
       "      <th>county</th>\n",
       "      <th>eq_site_limit</th>\n",
       "      <th>hu_site_limit</th>\n",
       "      <th>fl_site_limit</th>\n",
       "      <th>fr_site_limit</th>\n",
       "      <th>tiv_2011</th>\n",
       "      <th>tiv_2012</th>\n",
       "      <th>eq_site_deductible</th>\n",
       "      <th>hu_site_deductible</th>\n",
       "      <th>fl_site_deductible</th>\n",
       "      <th>fr_site_deductible</th>\n",
       "      <th>point_latitude</th>\n",
       "      <th>point_longitude</th>\n",
       "      <th>line</th>\n",
       "      <th>construction</th>\n",
       "      <th>point_granularity</th>\n",
       "    </tr>\n",
       "  </thead>\n",
       "  <tbody>\n",
       "    <tr>\n",
       "      <th>32286</th>\n",
       "      <td>234228</td>\n",
       "      <td>FL</td>\n",
       "      <td>CHARLOTTE COUNTY</td>\n",
       "      <td>0.0</td>\n",
       "      <td>7663.24</td>\n",
       "      <td>0.0</td>\n",
       "      <td>0.0</td>\n",
       "      <td>7663.24</td>\n",
       "      <td>9289.38</td>\n",
       "      <td>0.0</td>\n",
       "      <td>0.0</td>\n",
       "      <td>0.0</td>\n",
       "      <td>0</td>\n",
       "      <td>26.971525</td>\n",
       "      <td>-82.104060</td>\n",
       "      <td>Residential</td>\n",
       "      <td>Wood</td>\n",
       "      <td>3</td>\n",
       "    </tr>\n",
       "    <tr>\n",
       "      <th>10572</th>\n",
       "      <td>902627</td>\n",
       "      <td>FL</td>\n",
       "      <td>ALACHUA COUNTY</td>\n",
       "      <td>0.0</td>\n",
       "      <td>67335.83</td>\n",
       "      <td>0.0</td>\n",
       "      <td>0.0</td>\n",
       "      <td>67335.83</td>\n",
       "      <td>92463.95</td>\n",
       "      <td>0.0</td>\n",
       "      <td>0.0</td>\n",
       "      <td>0.0</td>\n",
       "      <td>0</td>\n",
       "      <td>29.793991</td>\n",
       "      <td>-82.173271</td>\n",
       "      <td>Residential</td>\n",
       "      <td>Wood</td>\n",
       "      <td>1</td>\n",
       "    </tr>\n",
       "    <tr>\n",
       "      <th>23900</th>\n",
       "      <td>699124</td>\n",
       "      <td>FL</td>\n",
       "      <td>PALM BEACH COUNTY</td>\n",
       "      <td>0.0</td>\n",
       "      <td>14744.44</td>\n",
       "      <td>0.0</td>\n",
       "      <td>0.0</td>\n",
       "      <td>14744.44</td>\n",
       "      <td>14056.88</td>\n",
       "      <td>0.0</td>\n",
       "      <td>0.0</td>\n",
       "      <td>0.0</td>\n",
       "      <td>0</td>\n",
       "      <td>26.662340</td>\n",
       "      <td>-80.258186</td>\n",
       "      <td>Residential</td>\n",
       "      <td>Wood</td>\n",
       "      <td>1</td>\n",
       "    </tr>\n",
       "    <tr>\n",
       "      <th>20412</th>\n",
       "      <td>588445</td>\n",
       "      <td>FL</td>\n",
       "      <td>MIAMI DADE COUNTY</td>\n",
       "      <td>0.0</td>\n",
       "      <td>2962610.64</td>\n",
       "      <td>0.0</td>\n",
       "      <td>0.0</td>\n",
       "      <td>2962610.64</td>\n",
       "      <td>3491460.34</td>\n",
       "      <td>0.0</td>\n",
       "      <td>0.0</td>\n",
       "      <td>0.0</td>\n",
       "      <td>0</td>\n",
       "      <td>25.769820</td>\n",
       "      <td>-80.361680</td>\n",
       "      <td>Commercial</td>\n",
       "      <td>Reinforced Masonry</td>\n",
       "      <td>1</td>\n",
       "    </tr>\n",
       "  </tbody>\n",
       "</table>\n",
       "</div>"
      ],
      "text/plain": [
       "       policyID statecode             county  eq_site_limit  hu_site_limit  \\\n",
       "32286    234228        FL   CHARLOTTE COUNTY            0.0        7663.24   \n",
       "10572    902627        FL     ALACHUA COUNTY            0.0       67335.83   \n",
       "23900    699124        FL  PALM BEACH COUNTY            0.0       14744.44   \n",
       "20412    588445        FL  MIAMI DADE COUNTY            0.0     2962610.64   \n",
       "\n",
       "       fl_site_limit  fr_site_limit    tiv_2011    tiv_2012  \\\n",
       "32286            0.0            0.0     7663.24     9289.38   \n",
       "10572            0.0            0.0    67335.83    92463.95   \n",
       "23900            0.0            0.0    14744.44    14056.88   \n",
       "20412            0.0            0.0  2962610.64  3491460.34   \n",
       "\n",
       "       eq_site_deductible  hu_site_deductible  fl_site_deductible  \\\n",
       "32286                 0.0                 0.0                 0.0   \n",
       "10572                 0.0                 0.0                 0.0   \n",
       "23900                 0.0                 0.0                 0.0   \n",
       "20412                 0.0                 0.0                 0.0   \n",
       "\n",
       "       fr_site_deductible  point_latitude  point_longitude         line  \\\n",
       "32286                   0       26.971525       -82.104060  Residential   \n",
       "10572                   0       29.793991       -82.173271  Residential   \n",
       "23900                   0       26.662340       -80.258186  Residential   \n",
       "20412                   0       25.769820       -80.361680   Commercial   \n",
       "\n",
       "             construction  point_granularity  \n",
       "32286                Wood                  3  \n",
       "10572                Wood                  1  \n",
       "23900                Wood                  1  \n",
       "20412  Reinforced Masonry                  1  "
      ]
     },
     "execution_count": 19,
     "metadata": {},
     "output_type": "execute_result"
    }
   ],
   "source": [
    "# 4 rows randomly\n",
    "data_fl.sample(4)"
   ]
  },
  {
   "cell_type": "code",
   "execution_count": 22,
   "metadata": {},
   "outputs": [
    {
     "data": {
      "text/plain": [
       "pandas.core.frame.DataFrame"
      ]
     },
     "execution_count": 22,
     "metadata": {},
     "output_type": "execute_result"
    }
   ],
   "source": [
    "type(data_fl.sample(4))"
   ]
  },
  {
   "cell_type": "markdown",
   "metadata": {},
   "source": [
    "#### Info about the dataframe"
   ]
  },
  {
   "cell_type": "code",
   "execution_count": 21,
   "metadata": {},
   "outputs": [
    {
     "name": "stdout",
     "output_type": "stream",
     "text": [
      "<class 'pandas.core.frame.DataFrame'>\n",
      "RangeIndex: 36634 entries, 0 to 36633\n",
      "Data columns (total 18 columns):\n",
      " #   Column              Non-Null Count  Dtype  \n",
      "---  ------              --------------  -----  \n",
      " 0   policyID            36634 non-null  int64  \n",
      " 1   statecode           36634 non-null  object \n",
      " 2   county              36634 non-null  object \n",
      " 3   eq_site_limit       36634 non-null  float64\n",
      " 4   hu_site_limit       36634 non-null  float64\n",
      " 5   fl_site_limit       36634 non-null  float64\n",
      " 6   fr_site_limit       36634 non-null  float64\n",
      " 7   tiv_2011            36634 non-null  float64\n",
      " 8   tiv_2012            36634 non-null  float64\n",
      " 9   eq_site_deductible  36634 non-null  float64\n",
      " 10  hu_site_deductible  36634 non-null  float64\n",
      " 11  fl_site_deductible  36634 non-null  float64\n",
      " 12  fr_site_deductible  36634 non-null  int64  \n",
      " 13  point_latitude      36634 non-null  float64\n",
      " 14  point_longitude     36634 non-null  float64\n",
      " 15  line                36634 non-null  object \n",
      " 16  construction        36634 non-null  object \n",
      " 17  point_granularity   36634 non-null  int64  \n",
      "dtypes: float64(11), int64(3), object(4)\n",
      "memory usage: 5.0+ MB\n"
     ]
    }
   ],
   "source": [
    "data_fl.info()"
   ]
  },
  {
   "cell_type": "code",
   "execution_count": 26,
   "metadata": {},
   "outputs": [
    {
     "data": {
      "text/plain": [
       "Residential    30838\n",
       "Commercial      5796\n",
       "Name: line, dtype: int64"
      ]
     },
     "execution_count": 26,
     "metadata": {},
     "output_type": "execute_result"
    }
   ],
   "source": [
    "data_fl.line.value_counts()"
   ]
  },
  {
   "cell_type": "code",
   "execution_count": 27,
   "metadata": {},
   "outputs": [
    {
     "data": {
      "text/plain": [
       "float64    11\n",
       "object      4\n",
       "int64       3\n",
       "dtype: int64"
      ]
     },
     "execution_count": 27,
     "metadata": {},
     "output_type": "execute_result"
    }
   ],
   "source": [
    "data_fl.dtypes.value_counts()"
   ]
  },
  {
   "cell_type": "code",
   "execution_count": 28,
   "metadata": {},
   "outputs": [
    {
     "name": "stdout",
     "output_type": "stream",
     "text": [
      "<class 'pandas.core.frame.DataFrame'>\n",
      "RangeIndex: 36634 entries, 0 to 36633\n",
      "Data columns (total 18 columns):\n",
      " #   Column              Non-Null Count  Dtype  \n",
      "---  ------              --------------  -----  \n",
      " 0   policyID            36634 non-null  int64  \n",
      " 1   statecode           36634 non-null  object \n",
      " 2   county              36634 non-null  object \n",
      " 3   eq_site_limit       36634 non-null  float64\n",
      " 4   hu_site_limit       36634 non-null  float64\n",
      " 5   fl_site_limit       36634 non-null  float64\n",
      " 6   fr_site_limit       36634 non-null  float64\n",
      " 7   tiv_2011            36634 non-null  float64\n",
      " 8   tiv_2012            36634 non-null  float64\n",
      " 9   eq_site_deductible  36634 non-null  float64\n",
      " 10  hu_site_deductible  36634 non-null  float64\n",
      " 11  fl_site_deductible  36634 non-null  float64\n",
      " 12  fr_site_deductible  36634 non-null  int64  \n",
      " 13  point_latitude      36634 non-null  float64\n",
      " 14  point_longitude     36634 non-null  float64\n",
      " 15  line                36634 non-null  object \n",
      " 16  construction        36634 non-null  object \n",
      " 17  point_granularity   36634 non-null  int64  \n",
      "dtypes: float64(11), int64(3), object(4)\n",
      "memory usage: 5.0+ MB\n",
      "<class 'NoneType'>\n"
     ]
    }
   ],
   "source": [
    "print(type(data_fl.info()))"
   ]
  },
  {
   "cell_type": "markdown",
   "metadata": {},
   "source": [
    "#### Accessing a single column"
   ]
  },
  {
   "cell_type": "code",
   "execution_count": 30,
   "metadata": {},
   "outputs": [
    {
     "data": {
      "text/plain": [
       "pandas.core.series.Series"
      ]
     },
     "execution_count": 30,
     "metadata": {},
     "output_type": "execute_result"
    }
   ],
   "source": [
    "type(data_fl.policyID)"
   ]
  },
  {
   "cell_type": "code",
   "execution_count": 32,
   "metadata": {},
   "outputs": [
    {
     "data": {
      "text/plain": [
       "0        119736\n",
       "1        448094\n",
       "2        206893\n",
       "3        333743\n",
       "4        172534\n",
       "          ...  \n",
       "36629    404309\n",
       "36630    465875\n",
       "36631    791209\n",
       "36632    322627\n",
       "36633    398149\n",
       "Name: policyID, Length: 36634, dtype: int64"
      ]
     },
     "execution_count": 32,
     "metadata": {},
     "output_type": "execute_result"
    }
   ],
   "source": [
    "data_fl.policyID"
   ]
  },
  {
   "cell_type": "code",
   "execution_count": 31,
   "metadata": {},
   "outputs": [
    {
     "data": {
      "text/plain": [
       "0        119736\n",
       "1        448094\n",
       "2        206893\n",
       "3        333743\n",
       "4        172534\n",
       "          ...  \n",
       "36629    404309\n",
       "36630    465875\n",
       "36631    791209\n",
       "36632    322627\n",
       "36633    398149\n",
       "Name: policyID, Length: 36634, dtype: int64"
      ]
     },
     "execution_count": 31,
     "metadata": {},
     "output_type": "execute_result"
    }
   ],
   "source": [
    "data_fl['policyID']"
   ]
  },
  {
   "cell_type": "markdown",
   "metadata": {},
   "source": [
    "#### specific column datatype"
   ]
  },
  {
   "cell_type": "code",
   "execution_count": 38,
   "metadata": {},
   "outputs": [
    {
     "data": {
      "text/plain": [
       "dtype('int64')"
      ]
     },
     "execution_count": 38,
     "metadata": {},
     "output_type": "execute_result"
    }
   ],
   "source": [
    "data_fl.policyID.dtypes"
   ]
  },
  {
   "cell_type": "code",
   "execution_count": 40,
   "metadata": {
    "collapsed": true
   },
   "outputs": [
    {
     "ename": "AttributeError",
     "evalue": "'DataFrame' object has no attribute 'dtype'",
     "output_type": "error",
     "traceback": [
      "\u001b[1;31m---------------------------------------------------------------------------\u001b[0m",
      "\u001b[1;31mAttributeError\u001b[0m                            Traceback (most recent call last)",
      "\u001b[1;32m<ipython-input-40-0a3fb7243bf7>\u001b[0m in \u001b[0;36m<module>\u001b[1;34m()\u001b[0m\n\u001b[1;32m----> 1\u001b[1;33m \u001b[0mdata_fl\u001b[0m\u001b[1;33m.\u001b[0m\u001b[0mdtype\u001b[0m\u001b[1;33m\u001b[0m\u001b[0m\n\u001b[0m",
      "\u001b[1;32m~\\Anaconda3\\lib\\site-packages\\pandas\\core\\generic.py\u001b[0m in \u001b[0;36m__getattr__\u001b[1;34m(self, name)\u001b[0m\n\u001b[0;32m   5271\u001b[0m             \u001b[1;32mif\u001b[0m \u001b[0mself\u001b[0m\u001b[1;33m.\u001b[0m\u001b[0m_info_axis\u001b[0m\u001b[1;33m.\u001b[0m\u001b[0m_can_hold_identifiers_and_holds_name\u001b[0m\u001b[1;33m(\u001b[0m\u001b[0mname\u001b[0m\u001b[1;33m)\u001b[0m\u001b[1;33m:\u001b[0m\u001b[1;33m\u001b[0m\u001b[0m\n\u001b[0;32m   5272\u001b[0m                 \u001b[1;32mreturn\u001b[0m \u001b[0mself\u001b[0m\u001b[1;33m[\u001b[0m\u001b[0mname\u001b[0m\u001b[1;33m]\u001b[0m\u001b[1;33m\u001b[0m\u001b[0m\n\u001b[1;32m-> 5273\u001b[1;33m             \u001b[1;32mreturn\u001b[0m \u001b[0mobject\u001b[0m\u001b[1;33m.\u001b[0m\u001b[0m__getattribute__\u001b[0m\u001b[1;33m(\u001b[0m\u001b[0mself\u001b[0m\u001b[1;33m,\u001b[0m \u001b[0mname\u001b[0m\u001b[1;33m)\u001b[0m\u001b[1;33m\u001b[0m\u001b[0m\n\u001b[0m\u001b[0;32m   5274\u001b[0m \u001b[1;33m\u001b[0m\u001b[0m\n\u001b[0;32m   5275\u001b[0m     \u001b[1;32mdef\u001b[0m \u001b[0m__setattr__\u001b[0m\u001b[1;33m(\u001b[0m\u001b[0mself\u001b[0m\u001b[1;33m,\u001b[0m \u001b[0mname\u001b[0m\u001b[1;33m:\u001b[0m \u001b[0mstr\u001b[0m\u001b[1;33m,\u001b[0m \u001b[0mvalue\u001b[0m\u001b[1;33m)\u001b[0m \u001b[1;33m->\u001b[0m \u001b[1;32mNone\u001b[0m\u001b[1;33m:\u001b[0m\u001b[1;33m\u001b[0m\u001b[0m\n",
      "\u001b[1;31mAttributeError\u001b[0m: 'DataFrame' object has no attribute 'dtype'"
     ]
    }
   ],
   "source": [
    "data_fl.dtype"
   ]
  },
  {
   "cell_type": "markdown",
   "metadata": {},
   "source": [
    "#### difference between dtypes and dtype\n",
    "- 'DataFrame' object has no attribute 'dtype'"
   ]
  },
  {
   "cell_type": "markdown",
   "metadata": {},
   "source": [
    "- Numerical columns-int or float data\n",
    "    - mean,median,sum,quartiles,min,max\n",
    "- Categorical columns - Object type or string data\n",
    "- Boolean data- True or False"
   ]
  },
  {
   "cell_type": "code",
   "execution_count": 41,
   "metadata": {},
   "outputs": [
    {
     "data": {
      "text/plain": [
       "Index(['policyID', 'statecode', 'county', 'eq_site_limit', 'hu_site_limit',\n",
       "       'fl_site_limit', 'fr_site_limit', 'tiv_2011', 'tiv_2012',\n",
       "       'eq_site_deductible', 'hu_site_deductible', 'fl_site_deductible',\n",
       "       'fr_site_deductible', 'point_latitude', 'point_longitude', 'line',\n",
       "       'construction', 'point_granularity'],\n",
       "      dtype='object')"
      ]
     },
     "execution_count": 41,
     "metadata": {},
     "output_type": "execute_result"
    }
   ],
   "source": [
    "data_fl.columns"
   ]
  },
  {
   "cell_type": "code",
   "execution_count": 42,
   "metadata": {},
   "outputs": [
    {
     "data": {
      "text/plain": [
       "dtype('int64')"
      ]
     },
     "execution_count": 42,
     "metadata": {},
     "output_type": "execute_result"
    }
   ],
   "source": [
    "data_fl.point_granularity.dtype"
   ]
  },
  {
   "cell_type": "code",
   "execution_count": 43,
   "metadata": {
    "collapsed": true
   },
   "outputs": [
    {
     "data": {
      "text/plain": [
       "0        1\n",
       "1        3\n",
       "2        1\n",
       "3        3\n",
       "4        1\n",
       "        ..\n",
       "36629    3\n",
       "36630    1\n",
       "36631    4\n",
       "36632    3\n",
       "36633    1\n",
       "Name: point_granularity, Length: 36634, dtype: int64"
      ]
     },
     "execution_count": 43,
     "metadata": {},
     "output_type": "execute_result"
    }
   ],
   "source": [
    "data_fl.point_granularity"
   ]
  },
  {
   "cell_type": "code",
   "execution_count": 44,
   "metadata": {},
   "outputs": [
    {
     "data": {
      "text/plain": [
       "1.6409073538243162"
      ]
     },
     "execution_count": 44,
     "metadata": {},
     "output_type": "execute_result"
    }
   ],
   "source": [
    "# mean value\n",
    "data_fl.point_granularity.mean()"
   ]
  },
  {
   "cell_type": "code",
   "execution_count": 45,
   "metadata": {},
   "outputs": [
    {
     "data": {
      "text/plain": [
       "36634"
      ]
     },
     "execution_count": 45,
     "metadata": {},
     "output_type": "execute_result"
    }
   ],
   "source": [
    "data_fl.point_granularity.shape[0]"
   ]
  },
  {
   "cell_type": "code",
   "execution_count": 46,
   "metadata": {},
   "outputs": [
    {
     "data": {
      "text/plain": [
       "1.6409073538243162"
      ]
     },
     "execution_count": 46,
     "metadata": {},
     "output_type": "execute_result"
    }
   ],
   "source": [
    "# average value\n",
    "data_fl.point_granularity.sum()/data_fl.point_granularity.shape[0]"
   ]
  },
  {
   "cell_type": "code",
   "execution_count": 48,
   "metadata": {},
   "outputs": [
    {
     "name": "stdout",
     "output_type": "stream",
     "text": [
      "1\n",
      "7\n"
     ]
    }
   ],
   "source": [
    "#min value\n",
    "print(data_fl.point_granularity.min())\n",
    "#max value\n",
    "print(data_fl.point_granularity.max())"
   ]
  },
  {
   "cell_type": "code",
   "execution_count": 49,
   "metadata": {},
   "outputs": [
    {
     "data": {
      "text/plain": [
       "1    26569\n",
       "3     6724\n",
       "4     3337\n",
       "7        2\n",
       "5        2\n",
       "Name: point_granularity, dtype: int64"
      ]
     },
     "execution_count": 49,
     "metadata": {},
     "output_type": "execute_result"
    }
   ],
   "source": [
    "data_fl.point_granularity.value_counts()"
   ]
  },
  {
   "cell_type": "code",
   "execution_count": 50,
   "metadata": {},
   "outputs": [
    {
     "data": {
      "text/plain": [
       "0    1\n",
       "dtype: int64"
      ]
     },
     "execution_count": 50,
     "metadata": {},
     "output_type": "execute_result"
    }
   ],
   "source": [
    "#mode\n",
    "data_fl.point_granularity.mode()"
   ]
  },
  {
   "cell_type": "code",
   "execution_count": 52,
   "metadata": {},
   "outputs": [
    {
     "data": {
      "text/plain": [
       "1"
      ]
     },
     "execution_count": 52,
     "metadata": {},
     "output_type": "execute_result"
    }
   ],
   "source": [
    "data_fl.point_granularity.mode()[0]"
   ]
  },
  {
   "cell_type": "code",
   "execution_count": 53,
   "metadata": {},
   "outputs": [
    {
     "data": {
      "text/plain": [
       "1.0"
      ]
     },
     "execution_count": 53,
     "metadata": {},
     "output_type": "execute_result"
    }
   ],
   "source": [
    "data_fl.point_granularity.median()"
   ]
  },
  {
   "cell_type": "code",
   "execution_count": 54,
   "metadata": {},
   "outputs": [
    {
     "name": "stdout",
     "output_type": "stream",
     "text": [
      "1 7\n"
     ]
    }
   ],
   "source": [
    "#Range of value in a column\n",
    "print(data_fl.point_granularity.min(),data_fl.point_granularity.max())"
   ]
  },
  {
   "cell_type": "code",
   "execution_count": 57,
   "metadata": {},
   "outputs": [
    {
     "data": {
      "text/plain": [
       "MIAMI DADE COUNTY    4315\n",
       "BROWARD COUNTY       3193\n",
       "PALM BEACH COUNTY    2791\n",
       "DUVAL COUNTY         1894\n",
       "ORANGE COUNTY        1811\n",
       "                     ... \n",
       "GLADES COUNTY          22\n",
       "UNION COUNTY           15\n",
       "Orlando                 1\n",
       "OSCEOLA COUNTY          1\n",
       "North Fort Myers        1\n",
       "Name: county, Length: 67, dtype: int64"
      ]
     },
     "execution_count": 57,
     "metadata": {},
     "output_type": "execute_result"
    }
   ],
   "source": [
    "data_fl.county.value_counts()\n",
    "#output type is a series\n",
    "#series of labels are unique values\n",
    "#the value for that label indicates number of times the label occured in that column\n",
    "#value count is integer"
   ]
  },
  {
   "cell_type": "code",
   "execution_count": 105,
   "metadata": {},
   "outputs": [
    {
     "name": "stdout",
     "output_type": "stream",
     "text": [
      "<class 'numpy.int32'>\n"
     ]
    }
   ],
   "source": [
    "print(type(data_fl.county.count()))"
   ]
  },
  {
   "cell_type": "code",
   "execution_count": 58,
   "metadata": {},
   "outputs": [
    {
     "data": {
      "text/plain": [
       "36634"
      ]
     },
     "execution_count": 58,
     "metadata": {},
     "output_type": "execute_result"
    }
   ],
   "source": [
    "#to get how many non null values\n",
    "data_fl.county.count()"
   ]
  },
  {
   "cell_type": "code",
   "execution_count": 59,
   "metadata": {},
   "outputs": [
    {
     "data": {
      "text/plain": [
       "67"
      ]
     },
     "execution_count": 59,
     "metadata": {},
     "output_type": "execute_result"
    }
   ],
   "source": [
    "#to check number of unique values\n",
    "data_fl.county.nunique()"
   ]
  },
  {
   "cell_type": "code",
   "execution_count": 60,
   "metadata": {},
   "outputs": [
    {
     "data": {
      "text/plain": [
       "int"
      ]
     },
     "execution_count": 60,
     "metadata": {},
     "output_type": "execute_result"
    }
   ],
   "source": [
    "type(data_fl.county.nunique())"
   ]
  },
  {
   "cell_type": "code",
   "execution_count": 61,
   "metadata": {},
   "outputs": [
    {
     "data": {
      "text/plain": [
       "numpy.int32"
      ]
     },
     "execution_count": 61,
     "metadata": {},
     "output_type": "execute_result"
    }
   ],
   "source": [
    "type(data_fl.county.count())"
   ]
  },
  {
   "cell_type": "code",
   "execution_count": 62,
   "metadata": {},
   "outputs": [
    {
     "data": {
      "text/plain": [
       "Index(['MIAMI DADE COUNTY', 'BROWARD COUNTY', 'PALM BEACH COUNTY',\n",
       "       'DUVAL COUNTY', 'ORANGE COUNTY', 'PINELLAS COUNTY', 'POLK COUNTY',\n",
       "       'VOLUSIA COUNTY', 'HILLSBOROUGH COUNTY', 'MARION COUNTY',\n",
       "       'OKALOOSA COUNTY', 'SEMINOLE COUNTY', 'ALACHUA COUNTY',\n",
       "       'BREVARD COUNTY', 'SANTA ROSA COUNTY', 'PASCO COUNTY', 'COLLIER COUNTY',\n",
       "       'LEE COUNTY', 'ST  JOHNS COUNTY', 'MANATEE COUNTY', 'ESCAMBIA COUNTY',\n",
       "       'SARASOTA COUNTY', 'CHARLOTTE COUNTY', 'BAY COUNTY', 'CITRUS COUNTY',\n",
       "       'INDIAN RIVER COUNTY', 'HIGHLANDS COUNTY', 'CLAY COUNTY',\n",
       "       'WALTON COUNTY', 'PUTNAM COUNTY', 'LEON COUNTY', 'JACKSON COUNTY',\n",
       "       'LAKE COUNTY', 'FLAGLER COUNTY', 'GADSDEN COUNTY', 'SUMTER COUNTY',\n",
       "       'SUWANNEE COUNTY', 'MONROE COUNTY', 'NASSAU COUNTY', 'LEVY COUNTY',\n",
       "       'COLUMBIA COUNTY', 'HERNANDO COUNTY', 'WASHINGTON COUNTY',\n",
       "       'TAYLOR COUNTY', 'MARTIN COUNTY', 'DESOTO COUNTY', 'WAKULLA COUNTY',\n",
       "       'HARDEE COUNTY', 'MADISON COUNTY', 'HENDRY COUNTY', 'GULF COUNTY',\n",
       "       'BAKER COUNTY', 'CALHOUN COUNTY', 'LAFAYETTE COUNTY',\n",
       "       'JEFFERSON COUNTY', 'HOLMES COUNTY', 'DIXIE COUNTY', 'GILCHRIST COUNTY',\n",
       "       'FRANKLIN COUNTY', 'LIBERTY COUNTY', 'HAMILTON COUNTY',\n",
       "       'BRADFORD COUNTY', 'GLADES COUNTY', 'UNION COUNTY', 'Orlando',\n",
       "       'OSCEOLA COUNTY', 'North Fort Myers'],\n",
       "      dtype='object')"
      ]
     },
     "execution_count": 62,
     "metadata": {},
     "output_type": "execute_result"
    }
   ],
   "source": [
    "data_fl.county.value_counts().index"
   ]
  },
  {
   "cell_type": "code",
   "execution_count": 63,
   "metadata": {},
   "outputs": [
    {
     "data": {
      "text/plain": [
       "67"
      ]
     },
     "execution_count": 63,
     "metadata": {},
     "output_type": "execute_result"
    }
   ],
   "source": [
    "data_fl.county.value_counts().shape[0]"
   ]
  },
  {
   "cell_type": "code",
   "execution_count": 65,
   "metadata": {},
   "outputs": [
    {
     "data": {
      "text/html": [
       "<div>\n",
       "<style scoped>\n",
       "    .dataframe tbody tr th:only-of-type {\n",
       "        vertical-align: middle;\n",
       "    }\n",
       "\n",
       "    .dataframe tbody tr th {\n",
       "        vertical-align: top;\n",
       "    }\n",
       "\n",
       "    .dataframe thead th {\n",
       "        text-align: right;\n",
       "    }\n",
       "</style>\n",
       "<table border=\"1\" class=\"dataframe\">\n",
       "  <thead>\n",
       "    <tr style=\"text-align: right;\">\n",
       "      <th></th>\n",
       "      <th>policyID</th>\n",
       "      <th>eq_site_limit</th>\n",
       "      <th>hu_site_limit</th>\n",
       "      <th>fl_site_limit</th>\n",
       "      <th>fr_site_limit</th>\n",
       "      <th>tiv_2011</th>\n",
       "      <th>tiv_2012</th>\n",
       "      <th>eq_site_deductible</th>\n",
       "      <th>hu_site_deductible</th>\n",
       "      <th>fl_site_deductible</th>\n",
       "      <th>fr_site_deductible</th>\n",
       "      <th>point_latitude</th>\n",
       "      <th>point_longitude</th>\n",
       "      <th>point_granularity</th>\n",
       "    </tr>\n",
       "  </thead>\n",
       "  <tbody>\n",
       "    <tr>\n",
       "      <th>count</th>\n",
       "      <td>36634.000000</td>\n",
       "      <td>3.663400e+04</td>\n",
       "      <td>3.663400e+04</td>\n",
       "      <td>3.663400e+04</td>\n",
       "      <td>3.663400e+04</td>\n",
       "      <td>3.663400e+04</td>\n",
       "      <td>3.663400e+04</td>\n",
       "      <td>3.663400e+04</td>\n",
       "      <td>3.663400e+04</td>\n",
       "      <td>36634.000000</td>\n",
       "      <td>36634.000000</td>\n",
       "      <td>36634.000000</td>\n",
       "      <td>36634.000000</td>\n",
       "      <td>36634.000000</td>\n",
       "    </tr>\n",
       "    <tr>\n",
       "      <th>mean</th>\n",
       "      <td>548661.937189</td>\n",
       "      <td>7.314780e+05</td>\n",
       "      <td>2.074348e+06</td>\n",
       "      <td>6.646009e+05</td>\n",
       "      <td>9.911724e+05</td>\n",
       "      <td>2.172875e+06</td>\n",
       "      <td>2.571004e+06</td>\n",
       "      <td>7.787908e+02</td>\n",
       "      <td>7.037985e+03</td>\n",
       "      <td>192.453210</td>\n",
       "      <td>26.483594</td>\n",
       "      <td>28.087477</td>\n",
       "      <td>-81.903565</td>\n",
       "      <td>1.640907</td>\n",
       "    </tr>\n",
       "    <tr>\n",
       "      <th>std</th>\n",
       "      <td>259912.926494</td>\n",
       "      <td>1.752300e+07</td>\n",
       "      <td>1.964150e+07</td>\n",
       "      <td>1.746114e+07</td>\n",
       "      <td>1.767178e+07</td>\n",
       "      <td>2.015015e+07</td>\n",
       "      <td>2.036777e+07</td>\n",
       "      <td>4.787979e+04</td>\n",
       "      <td>9.582593e+04</td>\n",
       "      <td>8037.713716</td>\n",
       "      <td>4702.740932</td>\n",
       "      <td>1.647734</td>\n",
       "      <td>1.809066</td>\n",
       "      <td>1.070561</td>\n",
       "    </tr>\n",
       "    <tr>\n",
       "      <th>min</th>\n",
       "      <td>100074.000000</td>\n",
       "      <td>0.000000e+00</td>\n",
       "      <td>0.000000e+00</td>\n",
       "      <td>0.000000e+00</td>\n",
       "      <td>0.000000e+00</td>\n",
       "      <td>9.000000e+01</td>\n",
       "      <td>7.337000e+01</td>\n",
       "      <td>0.000000e+00</td>\n",
       "      <td>0.000000e+00</td>\n",
       "      <td>0.000000</td>\n",
       "      <td>0.000000</td>\n",
       "      <td>24.547514</td>\n",
       "      <td>-87.447290</td>\n",
       "      <td>1.000000</td>\n",
       "    </tr>\n",
       "    <tr>\n",
       "      <th>25%</th>\n",
       "      <td>323647.750000</td>\n",
       "      <td>0.000000e+00</td>\n",
       "      <td>4.248106e+04</td>\n",
       "      <td>0.000000e+00</td>\n",
       "      <td>0.000000e+00</td>\n",
       "      <td>4.562415e+04</td>\n",
       "      <td>5.401351e+04</td>\n",
       "      <td>0.000000e+00</td>\n",
       "      <td>0.000000e+00</td>\n",
       "      <td>0.000000</td>\n",
       "      <td>0.000000</td>\n",
       "      <td>26.471996</td>\n",
       "      <td>-82.439331</td>\n",
       "      <td>1.000000</td>\n",
       "    </tr>\n",
       "    <tr>\n",
       "      <th>50%</th>\n",
       "      <td>548525.000000</td>\n",
       "      <td>0.000000e+00</td>\n",
       "      <td>1.926911e+05</td>\n",
       "      <td>0.000000e+00</td>\n",
       "      <td>0.000000e+00</td>\n",
       "      <td>2.021051e+05</td>\n",
       "      <td>2.416310e+05</td>\n",
       "      <td>0.000000e+00</td>\n",
       "      <td>0.000000e+00</td>\n",
       "      <td>0.000000</td>\n",
       "      <td>0.000000</td>\n",
       "      <td>28.057077</td>\n",
       "      <td>-81.585700</td>\n",
       "      <td>1.000000</td>\n",
       "    </tr>\n",
       "    <tr>\n",
       "      <th>75%</th>\n",
       "      <td>774252.000000</td>\n",
       "      <td>0.000000e+00</td>\n",
       "      <td>9.163381e+05</td>\n",
       "      <td>0.000000e+00</td>\n",
       "      <td>5.741010e+04</td>\n",
       "      <td>9.465821e+05</td>\n",
       "      <td>1.128871e+06</td>\n",
       "      <td>0.000000e+00</td>\n",
       "      <td>0.000000e+00</td>\n",
       "      <td>0.000000</td>\n",
       "      <td>0.000000</td>\n",
       "      <td>29.623005</td>\n",
       "      <td>-80.372910</td>\n",
       "      <td>3.000000</td>\n",
       "    </tr>\n",
       "    <tr>\n",
       "      <th>max</th>\n",
       "      <td>999971.000000</td>\n",
       "      <td>2.160000e+09</td>\n",
       "      <td>2.160000e+09</td>\n",
       "      <td>2.160000e+09</td>\n",
       "      <td>2.160000e+09</td>\n",
       "      <td>2.160000e+09</td>\n",
       "      <td>1.701000e+09</td>\n",
       "      <td>6.273765e+06</td>\n",
       "      <td>7.380000e+06</td>\n",
       "      <td>450000.000000</td>\n",
       "      <td>900000.000000</td>\n",
       "      <td>30.989820</td>\n",
       "      <td>-80.033257</td>\n",
       "      <td>7.000000</td>\n",
       "    </tr>\n",
       "  </tbody>\n",
       "</table>\n",
       "</div>"
      ],
      "text/plain": [
       "            policyID  eq_site_limit  hu_site_limit  fl_site_limit  \\\n",
       "count   36634.000000   3.663400e+04   3.663400e+04   3.663400e+04   \n",
       "mean   548661.937189   7.314780e+05   2.074348e+06   6.646009e+05   \n",
       "std    259912.926494   1.752300e+07   1.964150e+07   1.746114e+07   \n",
       "min    100074.000000   0.000000e+00   0.000000e+00   0.000000e+00   \n",
       "25%    323647.750000   0.000000e+00   4.248106e+04   0.000000e+00   \n",
       "50%    548525.000000   0.000000e+00   1.926911e+05   0.000000e+00   \n",
       "75%    774252.000000   0.000000e+00   9.163381e+05   0.000000e+00   \n",
       "max    999971.000000   2.160000e+09   2.160000e+09   2.160000e+09   \n",
       "\n",
       "       fr_site_limit      tiv_2011      tiv_2012  eq_site_deductible  \\\n",
       "count   3.663400e+04  3.663400e+04  3.663400e+04        3.663400e+04   \n",
       "mean    9.911724e+05  2.172875e+06  2.571004e+06        7.787908e+02   \n",
       "std     1.767178e+07  2.015015e+07  2.036777e+07        4.787979e+04   \n",
       "min     0.000000e+00  9.000000e+01  7.337000e+01        0.000000e+00   \n",
       "25%     0.000000e+00  4.562415e+04  5.401351e+04        0.000000e+00   \n",
       "50%     0.000000e+00  2.021051e+05  2.416310e+05        0.000000e+00   \n",
       "75%     5.741010e+04  9.465821e+05  1.128871e+06        0.000000e+00   \n",
       "max     2.160000e+09  2.160000e+09  1.701000e+09        6.273765e+06   \n",
       "\n",
       "       hu_site_deductible  fl_site_deductible  fr_site_deductible  \\\n",
       "count        3.663400e+04        36634.000000        36634.000000   \n",
       "mean         7.037985e+03          192.453210           26.483594   \n",
       "std          9.582593e+04         8037.713716         4702.740932   \n",
       "min          0.000000e+00            0.000000            0.000000   \n",
       "25%          0.000000e+00            0.000000            0.000000   \n",
       "50%          0.000000e+00            0.000000            0.000000   \n",
       "75%          0.000000e+00            0.000000            0.000000   \n",
       "max          7.380000e+06       450000.000000       900000.000000   \n",
       "\n",
       "       point_latitude  point_longitude  point_granularity  \n",
       "count    36634.000000     36634.000000       36634.000000  \n",
       "mean        28.087477       -81.903565           1.640907  \n",
       "std          1.647734         1.809066           1.070561  \n",
       "min         24.547514       -87.447290           1.000000  \n",
       "25%         26.471996       -82.439331           1.000000  \n",
       "50%         28.057077       -81.585700           1.000000  \n",
       "75%         29.623005       -80.372910           3.000000  \n",
       "max         30.989820       -80.033257           7.000000  "
      ]
     },
     "execution_count": 65,
     "metadata": {},
     "output_type": "execute_result"
    }
   ],
   "source": [
    "data_fl.describe()"
   ]
  },
  {
   "cell_type": "code",
   "execution_count": 67,
   "metadata": {},
   "outputs": [
    {
     "data": {
      "text/plain": [
       "Index(['policyID', 'eq_site_limit', 'hu_site_limit', 'fl_site_limit',\n",
       "       'fr_site_limit', 'tiv_2011', 'tiv_2012', 'eq_site_deductible',\n",
       "       'hu_site_deductible', 'fl_site_deductible', 'fr_site_deductible',\n",
       "       'point_latitude', 'point_longitude', 'point_granularity'],\n",
       "      dtype='object')"
      ]
     },
     "execution_count": 67,
     "metadata": {},
     "output_type": "execute_result"
    }
   ],
   "source": [
    "data_fl.describe().columns"
   ]
  },
  {
   "cell_type": "code",
   "execution_count": 68,
   "metadata": {},
   "outputs": [
    {
     "data": {
      "text/html": [
       "<div>\n",
       "<style scoped>\n",
       "    .dataframe tbody tr th:only-of-type {\n",
       "        vertical-align: middle;\n",
       "    }\n",
       "\n",
       "    .dataframe tbody tr th {\n",
       "        vertical-align: top;\n",
       "    }\n",
       "\n",
       "    .dataframe thead th {\n",
       "        text-align: right;\n",
       "    }\n",
       "</style>\n",
       "<table border=\"1\" class=\"dataframe\">\n",
       "  <thead>\n",
       "    <tr style=\"text-align: right;\">\n",
       "      <th></th>\n",
       "      <th>statecode</th>\n",
       "      <th>county</th>\n",
       "      <th>line</th>\n",
       "      <th>construction</th>\n",
       "    </tr>\n",
       "  </thead>\n",
       "  <tbody>\n",
       "    <tr>\n",
       "      <th>count</th>\n",
       "      <td>36634</td>\n",
       "      <td>36634</td>\n",
       "      <td>36634</td>\n",
       "      <td>36634</td>\n",
       "    </tr>\n",
       "    <tr>\n",
       "      <th>unique</th>\n",
       "      <td>1</td>\n",
       "      <td>67</td>\n",
       "      <td>2</td>\n",
       "      <td>5</td>\n",
       "    </tr>\n",
       "    <tr>\n",
       "      <th>top</th>\n",
       "      <td>FL</td>\n",
       "      <td>MIAMI DADE COUNTY</td>\n",
       "      <td>Residential</td>\n",
       "      <td>Wood</td>\n",
       "    </tr>\n",
       "    <tr>\n",
       "      <th>freq</th>\n",
       "      <td>36634</td>\n",
       "      <td>4315</td>\n",
       "      <td>30838</td>\n",
       "      <td>21581</td>\n",
       "    </tr>\n",
       "  </tbody>\n",
       "</table>\n",
       "</div>"
      ],
      "text/plain": [
       "       statecode             county         line construction\n",
       "count      36634              36634        36634        36634\n",
       "unique         1                 67            2            5\n",
       "top           FL  MIAMI DADE COUNTY  Residential         Wood\n",
       "freq       36634               4315        30838        21581"
      ]
     },
     "execution_count": 68,
     "metadata": {},
     "output_type": "execute_result"
    }
   ],
   "source": [
    "data_fl.describe(include=object)"
   ]
  },
  {
   "cell_type": "code",
   "execution_count": 70,
   "metadata": {},
   "outputs": [
    {
     "data": {
      "text/html": [
       "<div>\n",
       "<style scoped>\n",
       "    .dataframe tbody tr th:only-of-type {\n",
       "        vertical-align: middle;\n",
       "    }\n",
       "\n",
       "    .dataframe tbody tr th {\n",
       "        vertical-align: top;\n",
       "    }\n",
       "\n",
       "    .dataframe thead th {\n",
       "        text-align: right;\n",
       "    }\n",
       "</style>\n",
       "<table border=\"1\" class=\"dataframe\">\n",
       "  <thead>\n",
       "    <tr style=\"text-align: right;\">\n",
       "      <th></th>\n",
       "      <th>policyID</th>\n",
       "      <th>fr_site_deductible</th>\n",
       "      <th>point_granularity</th>\n",
       "    </tr>\n",
       "  </thead>\n",
       "  <tbody>\n",
       "    <tr>\n",
       "      <th>count</th>\n",
       "      <td>36634.000000</td>\n",
       "      <td>36634.000000</td>\n",
       "      <td>36634.000000</td>\n",
       "    </tr>\n",
       "    <tr>\n",
       "      <th>mean</th>\n",
       "      <td>548661.937189</td>\n",
       "      <td>26.483594</td>\n",
       "      <td>1.640907</td>\n",
       "    </tr>\n",
       "    <tr>\n",
       "      <th>std</th>\n",
       "      <td>259912.926494</td>\n",
       "      <td>4702.740932</td>\n",
       "      <td>1.070561</td>\n",
       "    </tr>\n",
       "    <tr>\n",
       "      <th>min</th>\n",
       "      <td>100074.000000</td>\n",
       "      <td>0.000000</td>\n",
       "      <td>1.000000</td>\n",
       "    </tr>\n",
       "    <tr>\n",
       "      <th>25%</th>\n",
       "      <td>323647.750000</td>\n",
       "      <td>0.000000</td>\n",
       "      <td>1.000000</td>\n",
       "    </tr>\n",
       "    <tr>\n",
       "      <th>50%</th>\n",
       "      <td>548525.000000</td>\n",
       "      <td>0.000000</td>\n",
       "      <td>1.000000</td>\n",
       "    </tr>\n",
       "    <tr>\n",
       "      <th>75%</th>\n",
       "      <td>774252.000000</td>\n",
       "      <td>0.000000</td>\n",
       "      <td>3.000000</td>\n",
       "    </tr>\n",
       "    <tr>\n",
       "      <th>max</th>\n",
       "      <td>999971.000000</td>\n",
       "      <td>900000.000000</td>\n",
       "      <td>7.000000</td>\n",
       "    </tr>\n",
       "  </tbody>\n",
       "</table>\n",
       "</div>"
      ],
      "text/plain": [
       "            policyID  fr_site_deductible  point_granularity\n",
       "count   36634.000000        36634.000000       36634.000000\n",
       "mean   548661.937189           26.483594           1.640907\n",
       "std    259912.926494         4702.740932           1.070561\n",
       "min    100074.000000            0.000000           1.000000\n",
       "25%    323647.750000            0.000000           1.000000\n",
       "50%    548525.000000            0.000000           1.000000\n",
       "75%    774252.000000            0.000000           3.000000\n",
       "max    999971.000000       900000.000000           7.000000"
      ]
     },
     "execution_count": 70,
     "metadata": {},
     "output_type": "execute_result"
    }
   ],
   "source": [
    "data_fl.describe(include=np.int64)"
   ]
  },
  {
   "cell_type": "code",
   "execution_count": 71,
   "metadata": {},
   "outputs": [
    {
     "data": {
      "text/html": [
       "<div>\n",
       "<style scoped>\n",
       "    .dataframe tbody tr th:only-of-type {\n",
       "        vertical-align: middle;\n",
       "    }\n",
       "\n",
       "    .dataframe tbody tr th {\n",
       "        vertical-align: top;\n",
       "    }\n",
       "\n",
       "    .dataframe thead th {\n",
       "        text-align: right;\n",
       "    }\n",
       "</style>\n",
       "<table border=\"1\" class=\"dataframe\">\n",
       "  <thead>\n",
       "    <tr style=\"text-align: right;\">\n",
       "      <th></th>\n",
       "      <th>eq_site_limit</th>\n",
       "      <th>hu_site_limit</th>\n",
       "      <th>fl_site_limit</th>\n",
       "      <th>fr_site_limit</th>\n",
       "      <th>tiv_2011</th>\n",
       "      <th>tiv_2012</th>\n",
       "      <th>eq_site_deductible</th>\n",
       "      <th>hu_site_deductible</th>\n",
       "      <th>fl_site_deductible</th>\n",
       "      <th>point_latitude</th>\n",
       "      <th>point_longitude</th>\n",
       "    </tr>\n",
       "  </thead>\n",
       "  <tbody>\n",
       "    <tr>\n",
       "      <th>count</th>\n",
       "      <td>3.663400e+04</td>\n",
       "      <td>3.663400e+04</td>\n",
       "      <td>3.663400e+04</td>\n",
       "      <td>3.663400e+04</td>\n",
       "      <td>3.663400e+04</td>\n",
       "      <td>3.663400e+04</td>\n",
       "      <td>3.663400e+04</td>\n",
       "      <td>3.663400e+04</td>\n",
       "      <td>36634.000000</td>\n",
       "      <td>36634.000000</td>\n",
       "      <td>36634.000000</td>\n",
       "    </tr>\n",
       "    <tr>\n",
       "      <th>mean</th>\n",
       "      <td>7.314780e+05</td>\n",
       "      <td>2.074348e+06</td>\n",
       "      <td>6.646009e+05</td>\n",
       "      <td>9.911724e+05</td>\n",
       "      <td>2.172875e+06</td>\n",
       "      <td>2.571004e+06</td>\n",
       "      <td>7.787908e+02</td>\n",
       "      <td>7.037985e+03</td>\n",
       "      <td>192.453210</td>\n",
       "      <td>28.087477</td>\n",
       "      <td>-81.903565</td>\n",
       "    </tr>\n",
       "    <tr>\n",
       "      <th>std</th>\n",
       "      <td>1.752300e+07</td>\n",
       "      <td>1.964150e+07</td>\n",
       "      <td>1.746114e+07</td>\n",
       "      <td>1.767178e+07</td>\n",
       "      <td>2.015015e+07</td>\n",
       "      <td>2.036777e+07</td>\n",
       "      <td>4.787979e+04</td>\n",
       "      <td>9.582593e+04</td>\n",
       "      <td>8037.713716</td>\n",
       "      <td>1.647734</td>\n",
       "      <td>1.809066</td>\n",
       "    </tr>\n",
       "    <tr>\n",
       "      <th>min</th>\n",
       "      <td>0.000000e+00</td>\n",
       "      <td>0.000000e+00</td>\n",
       "      <td>0.000000e+00</td>\n",
       "      <td>0.000000e+00</td>\n",
       "      <td>9.000000e+01</td>\n",
       "      <td>7.337000e+01</td>\n",
       "      <td>0.000000e+00</td>\n",
       "      <td>0.000000e+00</td>\n",
       "      <td>0.000000</td>\n",
       "      <td>24.547514</td>\n",
       "      <td>-87.447290</td>\n",
       "    </tr>\n",
       "    <tr>\n",
       "      <th>25%</th>\n",
       "      <td>0.000000e+00</td>\n",
       "      <td>4.248106e+04</td>\n",
       "      <td>0.000000e+00</td>\n",
       "      <td>0.000000e+00</td>\n",
       "      <td>4.562415e+04</td>\n",
       "      <td>5.401351e+04</td>\n",
       "      <td>0.000000e+00</td>\n",
       "      <td>0.000000e+00</td>\n",
       "      <td>0.000000</td>\n",
       "      <td>26.471996</td>\n",
       "      <td>-82.439331</td>\n",
       "    </tr>\n",
       "    <tr>\n",
       "      <th>50%</th>\n",
       "      <td>0.000000e+00</td>\n",
       "      <td>1.926911e+05</td>\n",
       "      <td>0.000000e+00</td>\n",
       "      <td>0.000000e+00</td>\n",
       "      <td>2.021051e+05</td>\n",
       "      <td>2.416310e+05</td>\n",
       "      <td>0.000000e+00</td>\n",
       "      <td>0.000000e+00</td>\n",
       "      <td>0.000000</td>\n",
       "      <td>28.057077</td>\n",
       "      <td>-81.585700</td>\n",
       "    </tr>\n",
       "    <tr>\n",
       "      <th>75%</th>\n",
       "      <td>0.000000e+00</td>\n",
       "      <td>9.163381e+05</td>\n",
       "      <td>0.000000e+00</td>\n",
       "      <td>5.741010e+04</td>\n",
       "      <td>9.465821e+05</td>\n",
       "      <td>1.128871e+06</td>\n",
       "      <td>0.000000e+00</td>\n",
       "      <td>0.000000e+00</td>\n",
       "      <td>0.000000</td>\n",
       "      <td>29.623005</td>\n",
       "      <td>-80.372910</td>\n",
       "    </tr>\n",
       "    <tr>\n",
       "      <th>max</th>\n",
       "      <td>2.160000e+09</td>\n",
       "      <td>2.160000e+09</td>\n",
       "      <td>2.160000e+09</td>\n",
       "      <td>2.160000e+09</td>\n",
       "      <td>2.160000e+09</td>\n",
       "      <td>1.701000e+09</td>\n",
       "      <td>6.273765e+06</td>\n",
       "      <td>7.380000e+06</td>\n",
       "      <td>450000.000000</td>\n",
       "      <td>30.989820</td>\n",
       "      <td>-80.033257</td>\n",
       "    </tr>\n",
       "  </tbody>\n",
       "</table>\n",
       "</div>"
      ],
      "text/plain": [
       "       eq_site_limit  hu_site_limit  fl_site_limit  fr_site_limit  \\\n",
       "count   3.663400e+04   3.663400e+04   3.663400e+04   3.663400e+04   \n",
       "mean    7.314780e+05   2.074348e+06   6.646009e+05   9.911724e+05   \n",
       "std     1.752300e+07   1.964150e+07   1.746114e+07   1.767178e+07   \n",
       "min     0.000000e+00   0.000000e+00   0.000000e+00   0.000000e+00   \n",
       "25%     0.000000e+00   4.248106e+04   0.000000e+00   0.000000e+00   \n",
       "50%     0.000000e+00   1.926911e+05   0.000000e+00   0.000000e+00   \n",
       "75%     0.000000e+00   9.163381e+05   0.000000e+00   5.741010e+04   \n",
       "max     2.160000e+09   2.160000e+09   2.160000e+09   2.160000e+09   \n",
       "\n",
       "           tiv_2011      tiv_2012  eq_site_deductible  hu_site_deductible  \\\n",
       "count  3.663400e+04  3.663400e+04        3.663400e+04        3.663400e+04   \n",
       "mean   2.172875e+06  2.571004e+06        7.787908e+02        7.037985e+03   \n",
       "std    2.015015e+07  2.036777e+07        4.787979e+04        9.582593e+04   \n",
       "min    9.000000e+01  7.337000e+01        0.000000e+00        0.000000e+00   \n",
       "25%    4.562415e+04  5.401351e+04        0.000000e+00        0.000000e+00   \n",
       "50%    2.021051e+05  2.416310e+05        0.000000e+00        0.000000e+00   \n",
       "75%    9.465821e+05  1.128871e+06        0.000000e+00        0.000000e+00   \n",
       "max    2.160000e+09  1.701000e+09        6.273765e+06        7.380000e+06   \n",
       "\n",
       "       fl_site_deductible  point_latitude  point_longitude  \n",
       "count        36634.000000    36634.000000     36634.000000  \n",
       "mean           192.453210       28.087477       -81.903565  \n",
       "std           8037.713716        1.647734         1.809066  \n",
       "min              0.000000       24.547514       -87.447290  \n",
       "25%              0.000000       26.471996       -82.439331  \n",
       "50%              0.000000       28.057077       -81.585700  \n",
       "75%              0.000000       29.623005       -80.372910  \n",
       "max         450000.000000       30.989820       -80.033257  "
      ]
     },
     "execution_count": 71,
     "metadata": {},
     "output_type": "execute_result"
    }
   ],
   "source": [
    "data_fl.describe(include=np.float64)"
   ]
  },
  {
   "cell_type": "code",
   "execution_count": 73,
   "metadata": {},
   "outputs": [
    {
     "data": {
      "text/html": [
       "<div>\n",
       "<style scoped>\n",
       "    .dataframe tbody tr th:only-of-type {\n",
       "        vertical-align: middle;\n",
       "    }\n",
       "\n",
       "    .dataframe tbody tr th {\n",
       "        vertical-align: top;\n",
       "    }\n",
       "\n",
       "    .dataframe thead th {\n",
       "        text-align: right;\n",
       "    }\n",
       "</style>\n",
       "<table border=\"1\" class=\"dataframe\">\n",
       "  <thead>\n",
       "    <tr style=\"text-align: right;\">\n",
       "      <th></th>\n",
       "      <th>policyID</th>\n",
       "      <th>statecode</th>\n",
       "      <th>county</th>\n",
       "      <th>eq_site_limit</th>\n",
       "      <th>hu_site_limit</th>\n",
       "      <th>fl_site_limit</th>\n",
       "      <th>fr_site_limit</th>\n",
       "      <th>tiv_2011</th>\n",
       "      <th>tiv_2012</th>\n",
       "      <th>eq_site_deductible</th>\n",
       "      <th>hu_site_deductible</th>\n",
       "      <th>fl_site_deductible</th>\n",
       "      <th>fr_site_deductible</th>\n",
       "      <th>point_latitude</th>\n",
       "      <th>point_longitude</th>\n",
       "      <th>line</th>\n",
       "      <th>construction</th>\n",
       "      <th>point_granularity</th>\n",
       "    </tr>\n",
       "  </thead>\n",
       "  <tbody>\n",
       "    <tr>\n",
       "      <th>count</th>\n",
       "      <td>36634.000000</td>\n",
       "      <td>36634</td>\n",
       "      <td>36634</td>\n",
       "      <td>3.663400e+04</td>\n",
       "      <td>3.663400e+04</td>\n",
       "      <td>3.663400e+04</td>\n",
       "      <td>3.663400e+04</td>\n",
       "      <td>3.663400e+04</td>\n",
       "      <td>3.663400e+04</td>\n",
       "      <td>3.663400e+04</td>\n",
       "      <td>3.663400e+04</td>\n",
       "      <td>36634.000000</td>\n",
       "      <td>36634.000000</td>\n",
       "      <td>36634.000000</td>\n",
       "      <td>36634.000000</td>\n",
       "      <td>36634</td>\n",
       "      <td>36634</td>\n",
       "      <td>36634.000000</td>\n",
       "    </tr>\n",
       "    <tr>\n",
       "      <th>unique</th>\n",
       "      <td>NaN</td>\n",
       "      <td>1</td>\n",
       "      <td>67</td>\n",
       "      <td>NaN</td>\n",
       "      <td>NaN</td>\n",
       "      <td>NaN</td>\n",
       "      <td>NaN</td>\n",
       "      <td>NaN</td>\n",
       "      <td>NaN</td>\n",
       "      <td>NaN</td>\n",
       "      <td>NaN</td>\n",
       "      <td>NaN</td>\n",
       "      <td>NaN</td>\n",
       "      <td>NaN</td>\n",
       "      <td>NaN</td>\n",
       "      <td>2</td>\n",
       "      <td>5</td>\n",
       "      <td>NaN</td>\n",
       "    </tr>\n",
       "    <tr>\n",
       "      <th>top</th>\n",
       "      <td>NaN</td>\n",
       "      <td>FL</td>\n",
       "      <td>MIAMI DADE COUNTY</td>\n",
       "      <td>NaN</td>\n",
       "      <td>NaN</td>\n",
       "      <td>NaN</td>\n",
       "      <td>NaN</td>\n",
       "      <td>NaN</td>\n",
       "      <td>NaN</td>\n",
       "      <td>NaN</td>\n",
       "      <td>NaN</td>\n",
       "      <td>NaN</td>\n",
       "      <td>NaN</td>\n",
       "      <td>NaN</td>\n",
       "      <td>NaN</td>\n",
       "      <td>Residential</td>\n",
       "      <td>Wood</td>\n",
       "      <td>NaN</td>\n",
       "    </tr>\n",
       "    <tr>\n",
       "      <th>freq</th>\n",
       "      <td>NaN</td>\n",
       "      <td>36634</td>\n",
       "      <td>4315</td>\n",
       "      <td>NaN</td>\n",
       "      <td>NaN</td>\n",
       "      <td>NaN</td>\n",
       "      <td>NaN</td>\n",
       "      <td>NaN</td>\n",
       "      <td>NaN</td>\n",
       "      <td>NaN</td>\n",
       "      <td>NaN</td>\n",
       "      <td>NaN</td>\n",
       "      <td>NaN</td>\n",
       "      <td>NaN</td>\n",
       "      <td>NaN</td>\n",
       "      <td>30838</td>\n",
       "      <td>21581</td>\n",
       "      <td>NaN</td>\n",
       "    </tr>\n",
       "    <tr>\n",
       "      <th>mean</th>\n",
       "      <td>548661.937189</td>\n",
       "      <td>NaN</td>\n",
       "      <td>NaN</td>\n",
       "      <td>7.314780e+05</td>\n",
       "      <td>2.074348e+06</td>\n",
       "      <td>6.646009e+05</td>\n",
       "      <td>9.911724e+05</td>\n",
       "      <td>2.172875e+06</td>\n",
       "      <td>2.571004e+06</td>\n",
       "      <td>7.787908e+02</td>\n",
       "      <td>7.037985e+03</td>\n",
       "      <td>192.453210</td>\n",
       "      <td>26.483594</td>\n",
       "      <td>28.087477</td>\n",
       "      <td>-81.903565</td>\n",
       "      <td>NaN</td>\n",
       "      <td>NaN</td>\n",
       "      <td>1.640907</td>\n",
       "    </tr>\n",
       "    <tr>\n",
       "      <th>std</th>\n",
       "      <td>259912.926494</td>\n",
       "      <td>NaN</td>\n",
       "      <td>NaN</td>\n",
       "      <td>1.752300e+07</td>\n",
       "      <td>1.964150e+07</td>\n",
       "      <td>1.746114e+07</td>\n",
       "      <td>1.767178e+07</td>\n",
       "      <td>2.015015e+07</td>\n",
       "      <td>2.036777e+07</td>\n",
       "      <td>4.787979e+04</td>\n",
       "      <td>9.582593e+04</td>\n",
       "      <td>8037.713716</td>\n",
       "      <td>4702.740932</td>\n",
       "      <td>1.647734</td>\n",
       "      <td>1.809066</td>\n",
       "      <td>NaN</td>\n",
       "      <td>NaN</td>\n",
       "      <td>1.070561</td>\n",
       "    </tr>\n",
       "    <tr>\n",
       "      <th>min</th>\n",
       "      <td>100074.000000</td>\n",
       "      <td>NaN</td>\n",
       "      <td>NaN</td>\n",
       "      <td>0.000000e+00</td>\n",
       "      <td>0.000000e+00</td>\n",
       "      <td>0.000000e+00</td>\n",
       "      <td>0.000000e+00</td>\n",
       "      <td>9.000000e+01</td>\n",
       "      <td>7.337000e+01</td>\n",
       "      <td>0.000000e+00</td>\n",
       "      <td>0.000000e+00</td>\n",
       "      <td>0.000000</td>\n",
       "      <td>0.000000</td>\n",
       "      <td>24.547514</td>\n",
       "      <td>-87.447290</td>\n",
       "      <td>NaN</td>\n",
       "      <td>NaN</td>\n",
       "      <td>1.000000</td>\n",
       "    </tr>\n",
       "    <tr>\n",
       "      <th>25%</th>\n",
       "      <td>323647.750000</td>\n",
       "      <td>NaN</td>\n",
       "      <td>NaN</td>\n",
       "      <td>0.000000e+00</td>\n",
       "      <td>4.248106e+04</td>\n",
       "      <td>0.000000e+00</td>\n",
       "      <td>0.000000e+00</td>\n",
       "      <td>4.562415e+04</td>\n",
       "      <td>5.401351e+04</td>\n",
       "      <td>0.000000e+00</td>\n",
       "      <td>0.000000e+00</td>\n",
       "      <td>0.000000</td>\n",
       "      <td>0.000000</td>\n",
       "      <td>26.471996</td>\n",
       "      <td>-82.439331</td>\n",
       "      <td>NaN</td>\n",
       "      <td>NaN</td>\n",
       "      <td>1.000000</td>\n",
       "    </tr>\n",
       "    <tr>\n",
       "      <th>50%</th>\n",
       "      <td>548525.000000</td>\n",
       "      <td>NaN</td>\n",
       "      <td>NaN</td>\n",
       "      <td>0.000000e+00</td>\n",
       "      <td>1.926911e+05</td>\n",
       "      <td>0.000000e+00</td>\n",
       "      <td>0.000000e+00</td>\n",
       "      <td>2.021051e+05</td>\n",
       "      <td>2.416310e+05</td>\n",
       "      <td>0.000000e+00</td>\n",
       "      <td>0.000000e+00</td>\n",
       "      <td>0.000000</td>\n",
       "      <td>0.000000</td>\n",
       "      <td>28.057077</td>\n",
       "      <td>-81.585700</td>\n",
       "      <td>NaN</td>\n",
       "      <td>NaN</td>\n",
       "      <td>1.000000</td>\n",
       "    </tr>\n",
       "    <tr>\n",
       "      <th>75%</th>\n",
       "      <td>774252.000000</td>\n",
       "      <td>NaN</td>\n",
       "      <td>NaN</td>\n",
       "      <td>0.000000e+00</td>\n",
       "      <td>9.163381e+05</td>\n",
       "      <td>0.000000e+00</td>\n",
       "      <td>5.741010e+04</td>\n",
       "      <td>9.465821e+05</td>\n",
       "      <td>1.128871e+06</td>\n",
       "      <td>0.000000e+00</td>\n",
       "      <td>0.000000e+00</td>\n",
       "      <td>0.000000</td>\n",
       "      <td>0.000000</td>\n",
       "      <td>29.623005</td>\n",
       "      <td>-80.372910</td>\n",
       "      <td>NaN</td>\n",
       "      <td>NaN</td>\n",
       "      <td>3.000000</td>\n",
       "    </tr>\n",
       "    <tr>\n",
       "      <th>max</th>\n",
       "      <td>999971.000000</td>\n",
       "      <td>NaN</td>\n",
       "      <td>NaN</td>\n",
       "      <td>2.160000e+09</td>\n",
       "      <td>2.160000e+09</td>\n",
       "      <td>2.160000e+09</td>\n",
       "      <td>2.160000e+09</td>\n",
       "      <td>2.160000e+09</td>\n",
       "      <td>1.701000e+09</td>\n",
       "      <td>6.273765e+06</td>\n",
       "      <td>7.380000e+06</td>\n",
       "      <td>450000.000000</td>\n",
       "      <td>900000.000000</td>\n",
       "      <td>30.989820</td>\n",
       "      <td>-80.033257</td>\n",
       "      <td>NaN</td>\n",
       "      <td>NaN</td>\n",
       "      <td>7.000000</td>\n",
       "    </tr>\n",
       "  </tbody>\n",
       "</table>\n",
       "</div>"
      ],
      "text/plain": [
       "             policyID statecode             county  eq_site_limit  \\\n",
       "count    36634.000000     36634              36634   3.663400e+04   \n",
       "unique            NaN         1                 67            NaN   \n",
       "top               NaN        FL  MIAMI DADE COUNTY            NaN   \n",
       "freq              NaN     36634               4315            NaN   \n",
       "mean    548661.937189       NaN                NaN   7.314780e+05   \n",
       "std     259912.926494       NaN                NaN   1.752300e+07   \n",
       "min     100074.000000       NaN                NaN   0.000000e+00   \n",
       "25%     323647.750000       NaN                NaN   0.000000e+00   \n",
       "50%     548525.000000       NaN                NaN   0.000000e+00   \n",
       "75%     774252.000000       NaN                NaN   0.000000e+00   \n",
       "max     999971.000000       NaN                NaN   2.160000e+09   \n",
       "\n",
       "        hu_site_limit  fl_site_limit  fr_site_limit      tiv_2011  \\\n",
       "count    3.663400e+04   3.663400e+04   3.663400e+04  3.663400e+04   \n",
       "unique            NaN            NaN            NaN           NaN   \n",
       "top               NaN            NaN            NaN           NaN   \n",
       "freq              NaN            NaN            NaN           NaN   \n",
       "mean     2.074348e+06   6.646009e+05   9.911724e+05  2.172875e+06   \n",
       "std      1.964150e+07   1.746114e+07   1.767178e+07  2.015015e+07   \n",
       "min      0.000000e+00   0.000000e+00   0.000000e+00  9.000000e+01   \n",
       "25%      4.248106e+04   0.000000e+00   0.000000e+00  4.562415e+04   \n",
       "50%      1.926911e+05   0.000000e+00   0.000000e+00  2.021051e+05   \n",
       "75%      9.163381e+05   0.000000e+00   5.741010e+04  9.465821e+05   \n",
       "max      2.160000e+09   2.160000e+09   2.160000e+09  2.160000e+09   \n",
       "\n",
       "            tiv_2012  eq_site_deductible  hu_site_deductible  \\\n",
       "count   3.663400e+04        3.663400e+04        3.663400e+04   \n",
       "unique           NaN                 NaN                 NaN   \n",
       "top              NaN                 NaN                 NaN   \n",
       "freq             NaN                 NaN                 NaN   \n",
       "mean    2.571004e+06        7.787908e+02        7.037985e+03   \n",
       "std     2.036777e+07        4.787979e+04        9.582593e+04   \n",
       "min     7.337000e+01        0.000000e+00        0.000000e+00   \n",
       "25%     5.401351e+04        0.000000e+00        0.000000e+00   \n",
       "50%     2.416310e+05        0.000000e+00        0.000000e+00   \n",
       "75%     1.128871e+06        0.000000e+00        0.000000e+00   \n",
       "max     1.701000e+09        6.273765e+06        7.380000e+06   \n",
       "\n",
       "        fl_site_deductible  fr_site_deductible  point_latitude  \\\n",
       "count         36634.000000        36634.000000    36634.000000   \n",
       "unique                 NaN                 NaN             NaN   \n",
       "top                    NaN                 NaN             NaN   \n",
       "freq                   NaN                 NaN             NaN   \n",
       "mean            192.453210           26.483594       28.087477   \n",
       "std            8037.713716         4702.740932        1.647734   \n",
       "min               0.000000            0.000000       24.547514   \n",
       "25%               0.000000            0.000000       26.471996   \n",
       "50%               0.000000            0.000000       28.057077   \n",
       "75%               0.000000            0.000000       29.623005   \n",
       "max          450000.000000       900000.000000       30.989820   \n",
       "\n",
       "        point_longitude         line construction  point_granularity  \n",
       "count      36634.000000        36634        36634       36634.000000  \n",
       "unique              NaN            2            5                NaN  \n",
       "top                 NaN  Residential         Wood                NaN  \n",
       "freq                NaN        30838        21581                NaN  \n",
       "mean         -81.903565          NaN          NaN           1.640907  \n",
       "std            1.809066          NaN          NaN           1.070561  \n",
       "min          -87.447290          NaN          NaN           1.000000  \n",
       "25%          -82.439331          NaN          NaN           1.000000  \n",
       "50%          -81.585700          NaN          NaN           1.000000  \n",
       "75%          -80.372910          NaN          NaN           3.000000  \n",
       "max          -80.033257          NaN          NaN           7.000000  "
      ]
     },
     "execution_count": 73,
     "metadata": {},
     "output_type": "execute_result"
    }
   ],
   "source": [
    "data_fl.describe(include='all')"
   ]
  },
  {
   "cell_type": "markdown",
   "metadata": {},
   "source": [
    "- Slicing, subsetting, Boolean Indexing\n",
    "    - postion based (iloc)\n",
    "    - rows --> 0 to 36633\n",
    "    - columns --> 0 to 17\n",
    "    - label based indexing(loc)\n",
    "- rows --> 0 to 36633\n",
    "- columns --> ['policyID', 'statecode', 'county', 'eq_site_limit', 'hu_site_limit', 'fl_site_limit', 'fr_site_limit', 'tiv_2011', 'tiv_2012', 'eq_site_deductible', 'hu_site_deductible', 'fl_site_deductible', 'fr_site_deductible', 'point_latitude', 'point_longitude', 'line', 'construction', 'point_granularity']"
   ]
  },
  {
   "cell_type": "code",
   "execution_count": 75,
   "metadata": {},
   "outputs": [
    {
     "data": {
      "text/plain": [
       "policyID                   448094\n",
       "statecode                      FL\n",
       "county                CLAY COUNTY\n",
       "eq_site_limit         1.32238e+06\n",
       "hu_site_limit         1.32238e+06\n",
       "fl_site_limit         1.32238e+06\n",
       "fr_site_limit         1.32238e+06\n",
       "tiv_2011              1.32238e+06\n",
       "tiv_2012              1.43816e+06\n",
       "eq_site_deductible              0\n",
       "hu_site_deductible              0\n",
       "fl_site_deductible              0\n",
       "fr_site_deductible              0\n",
       "point_latitude            30.0639\n",
       "point_longitude          -81.7077\n",
       "line                  Residential\n",
       "construction              Masonry\n",
       "point_granularity               3\n",
       "Name: 1, dtype: object"
      ]
     },
     "execution_count": 75,
     "metadata": {},
     "output_type": "execute_result"
    }
   ],
   "source": [
    "data_fl.iloc[1,:] #row with row 1 and all the columns"
   ]
  },
  {
   "cell_type": "code",
   "execution_count": 77,
   "metadata": {},
   "outputs": [
    {
     "data": {
      "text/plain": [
       "policyID                   448094\n",
       "statecode                      FL\n",
       "county                CLAY COUNTY\n",
       "eq_site_limit         1.32238e+06\n",
       "hu_site_limit         1.32238e+06\n",
       "fl_site_limit         1.32238e+06\n",
       "fr_site_limit         1.32238e+06\n",
       "tiv_2011              1.32238e+06\n",
       "tiv_2012              1.43816e+06\n",
       "eq_site_deductible              0\n",
       "hu_site_deductible              0\n",
       "fl_site_deductible              0\n",
       "fr_site_deductible              0\n",
       "point_latitude            30.0639\n",
       "point_longitude          -81.7077\n",
       "line                  Residential\n",
       "construction              Masonry\n",
       "point_granularity               3\n",
       "Name: 1, dtype: object"
      ]
     },
     "execution_count": 77,
     "metadata": {},
     "output_type": "execute_result"
    }
   ],
   "source": [
    "data_fl.loc[1,:]"
   ]
  },
  {
   "cell_type": "code",
   "execution_count": 78,
   "metadata": {},
   "outputs": [
    {
     "data": {
      "text/plain": [
       "'FL'"
      ]
     },
     "execution_count": 78,
     "metadata": {},
     "output_type": "execute_result"
    }
   ],
   "source": [
    "data_fl.iloc[1,1]"
   ]
  },
  {
   "cell_type": "code",
   "execution_count": 80,
   "metadata": {},
   "outputs": [
    {
     "data": {
      "text/plain": [
       "'FL'"
      ]
     },
     "execution_count": 80,
     "metadata": {},
     "output_type": "execute_result"
    }
   ],
   "source": [
    "data_fl.loc[1,\"statecode\"]"
   ]
  },
  {
   "cell_type": "code",
   "execution_count": 81,
   "metadata": {},
   "outputs": [
    {
     "data": {
      "text/plain": [
       "statecode             FL\n",
       "county       CLAY COUNTY\n",
       "Name: 1, dtype: object"
      ]
     },
     "execution_count": 81,
     "metadata": {},
     "output_type": "execute_result"
    }
   ],
   "source": [
    "data_fl.iloc[1,1:3] #stop index is exclusive"
   ]
  },
  {
   "cell_type": "code",
   "execution_count": 85,
   "metadata": {},
   "outputs": [
    {
     "data": {
      "text/plain": [
       "statecode             FL\n",
       "county       CLAY COUNTY\n",
       "Name: 1, dtype: object"
      ]
     },
     "execution_count": 85,
     "metadata": {},
     "output_type": "execute_result"
    }
   ],
   "source": [
    "data_fl.loc[1,'statecode':'county']"
   ]
  },
  {
   "cell_type": "code",
   "execution_count": 104,
   "metadata": {},
   "outputs": [
    {
     "name": "stdout",
     "output_type": "stream",
     "text": [
      "  statecode       county\n",
      "1        FL  CLAY COUNTY\n",
      "2        FL  CLAY COUNTY\n",
      "3        FL  CLAY COUNTY\n",
      "<class 'pandas.core.frame.DataFrame'>\n"
     ]
    }
   ],
   "source": [
    "print(data_fl.iloc[1:4,1:3])\n",
    "print(type(data_fl.iloc[1:4,1:3]))"
   ]
  },
  {
   "cell_type": "code",
   "execution_count": 103,
   "metadata": {},
   "outputs": [
    {
     "name": "stdout",
     "output_type": "stream",
     "text": [
      "  statecode       county\n",
      "1        FL  CLAY COUNTY\n",
      "2        FL  CLAY COUNTY\n",
      "3        FL  CLAY COUNTY\n",
      "4        FL  CLAY COUNTY\n",
      "<class 'pandas.core.frame.DataFrame'>\n"
     ]
    }
   ],
   "source": [
    "print(data_fl.loc[1:4,'statecode':'county'])\n",
    "print(type(data_fl.loc[1:4,'statecode':'county']))"
   ]
  },
  {
   "cell_type": "code",
   "execution_count": 89,
   "metadata": {},
   "outputs": [
    {
     "data": {
      "text/html": [
       "<div>\n",
       "<style scoped>\n",
       "    .dataframe tbody tr th:only-of-type {\n",
       "        vertical-align: middle;\n",
       "    }\n",
       "\n",
       "    .dataframe tbody tr th {\n",
       "        vertical-align: top;\n",
       "    }\n",
       "\n",
       "    .dataframe thead th {\n",
       "        text-align: right;\n",
       "    }\n",
       "</style>\n",
       "<table border=\"1\" class=\"dataframe\">\n",
       "  <thead>\n",
       "    <tr style=\"text-align: right;\">\n",
       "      <th></th>\n",
       "      <th>statecode</th>\n",
       "      <th>county</th>\n",
       "      <th>eq_site_limit</th>\n",
       "      <th>hu_site_limit</th>\n",
       "      <th>fl_site_limit</th>\n",
       "      <th>fr_site_limit</th>\n",
       "      <th>tiv_2011</th>\n",
       "      <th>tiv_2012</th>\n",
       "      <th>eq_site_deductible</th>\n",
       "      <th>hu_site_deductible</th>\n",
       "      <th>fl_site_deductible</th>\n",
       "      <th>fr_site_deductible</th>\n",
       "      <th>point_latitude</th>\n",
       "      <th>point_longitude</th>\n",
       "      <th>line</th>\n",
       "      <th>construction</th>\n",
       "      <th>point_granularity</th>\n",
       "    </tr>\n",
       "    <tr>\n",
       "      <th>policyID</th>\n",
       "      <th></th>\n",
       "      <th></th>\n",
       "      <th></th>\n",
       "      <th></th>\n",
       "      <th></th>\n",
       "      <th></th>\n",
       "      <th></th>\n",
       "      <th></th>\n",
       "      <th></th>\n",
       "      <th></th>\n",
       "      <th></th>\n",
       "      <th></th>\n",
       "      <th></th>\n",
       "      <th></th>\n",
       "      <th></th>\n",
       "      <th></th>\n",
       "      <th></th>\n",
       "    </tr>\n",
       "  </thead>\n",
       "  <tbody>\n",
       "    <tr>\n",
       "      <th>119736</th>\n",
       "      <td>FL</td>\n",
       "      <td>CLAY COUNTY</td>\n",
       "      <td>498960.0</td>\n",
       "      <td>498960.00</td>\n",
       "      <td>498960.0</td>\n",
       "      <td>498960.0</td>\n",
       "      <td>498960.00</td>\n",
       "      <td>792148.90</td>\n",
       "      <td>0.0</td>\n",
       "      <td>9979.2</td>\n",
       "      <td>0.0</td>\n",
       "      <td>0</td>\n",
       "      <td>30.102261</td>\n",
       "      <td>-81.711777</td>\n",
       "      <td>Residential</td>\n",
       "      <td>Masonry</td>\n",
       "      <td>1</td>\n",
       "    </tr>\n",
       "    <tr>\n",
       "      <th>448094</th>\n",
       "      <td>FL</td>\n",
       "      <td>CLAY COUNTY</td>\n",
       "      <td>1322376.3</td>\n",
       "      <td>1322376.30</td>\n",
       "      <td>1322376.3</td>\n",
       "      <td>1322376.3</td>\n",
       "      <td>1322376.30</td>\n",
       "      <td>1438163.57</td>\n",
       "      <td>0.0</td>\n",
       "      <td>0.0</td>\n",
       "      <td>0.0</td>\n",
       "      <td>0</td>\n",
       "      <td>30.063936</td>\n",
       "      <td>-81.707664</td>\n",
       "      <td>Residential</td>\n",
       "      <td>Masonry</td>\n",
       "      <td>3</td>\n",
       "    </tr>\n",
       "    <tr>\n",
       "      <th>206893</th>\n",
       "      <td>FL</td>\n",
       "      <td>CLAY COUNTY</td>\n",
       "      <td>190724.4</td>\n",
       "      <td>190724.40</td>\n",
       "      <td>190724.4</td>\n",
       "      <td>190724.4</td>\n",
       "      <td>190724.40</td>\n",
       "      <td>192476.78</td>\n",
       "      <td>0.0</td>\n",
       "      <td>0.0</td>\n",
       "      <td>0.0</td>\n",
       "      <td>0</td>\n",
       "      <td>30.089579</td>\n",
       "      <td>-81.700455</td>\n",
       "      <td>Residential</td>\n",
       "      <td>Wood</td>\n",
       "      <td>1</td>\n",
       "    </tr>\n",
       "    <tr>\n",
       "      <th>333743</th>\n",
       "      <td>FL</td>\n",
       "      <td>CLAY COUNTY</td>\n",
       "      <td>0.0</td>\n",
       "      <td>79520.76</td>\n",
       "      <td>0.0</td>\n",
       "      <td>0.0</td>\n",
       "      <td>79520.76</td>\n",
       "      <td>86854.48</td>\n",
       "      <td>0.0</td>\n",
       "      <td>0.0</td>\n",
       "      <td>0.0</td>\n",
       "      <td>0</td>\n",
       "      <td>30.063236</td>\n",
       "      <td>-81.707703</td>\n",
       "      <td>Residential</td>\n",
       "      <td>Wood</td>\n",
       "      <td>3</td>\n",
       "    </tr>\n",
       "    <tr>\n",
       "      <th>172534</th>\n",
       "      <td>FL</td>\n",
       "      <td>CLAY COUNTY</td>\n",
       "      <td>0.0</td>\n",
       "      <td>254281.50</td>\n",
       "      <td>0.0</td>\n",
       "      <td>254281.5</td>\n",
       "      <td>254281.50</td>\n",
       "      <td>246144.49</td>\n",
       "      <td>0.0</td>\n",
       "      <td>0.0</td>\n",
       "      <td>0.0</td>\n",
       "      <td>0</td>\n",
       "      <td>30.060614</td>\n",
       "      <td>-81.702675</td>\n",
       "      <td>Residential</td>\n",
       "      <td>Wood</td>\n",
       "      <td>1</td>\n",
       "    </tr>\n",
       "    <tr>\n",
       "      <th>...</th>\n",
       "      <td>...</td>\n",
       "      <td>...</td>\n",
       "      <td>...</td>\n",
       "      <td>...</td>\n",
       "      <td>...</td>\n",
       "      <td>...</td>\n",
       "      <td>...</td>\n",
       "      <td>...</td>\n",
       "      <td>...</td>\n",
       "      <td>...</td>\n",
       "      <td>...</td>\n",
       "      <td>...</td>\n",
       "      <td>...</td>\n",
       "      <td>...</td>\n",
       "      <td>...</td>\n",
       "      <td>...</td>\n",
       "      <td>...</td>\n",
       "    </tr>\n",
       "    <tr>\n",
       "      <th>404309</th>\n",
       "      <td>FL</td>\n",
       "      <td>PINELLAS COUNTY</td>\n",
       "      <td>0.0</td>\n",
       "      <td>88722.00</td>\n",
       "      <td>0.0</td>\n",
       "      <td>88722.0</td>\n",
       "      <td>88722.00</td>\n",
       "      <td>155065.65</td>\n",
       "      <td>0.0</td>\n",
       "      <td>0.0</td>\n",
       "      <td>0.0</td>\n",
       "      <td>0</td>\n",
       "      <td>28.122885</td>\n",
       "      <td>-82.770218</td>\n",
       "      <td>Residential</td>\n",
       "      <td>Wood</td>\n",
       "      <td>3</td>\n",
       "    </tr>\n",
       "    <tr>\n",
       "      <th>465875</th>\n",
       "      <td>FL</td>\n",
       "      <td>PINELLAS COUNTY</td>\n",
       "      <td>1297057.5</td>\n",
       "      <td>1297057.50</td>\n",
       "      <td>1297057.5</td>\n",
       "      <td>1297057.5</td>\n",
       "      <td>1297057.50</td>\n",
       "      <td>1577500.79</td>\n",
       "      <td>0.0</td>\n",
       "      <td>0.0</td>\n",
       "      <td>0.0</td>\n",
       "      <td>0</td>\n",
       "      <td>28.080900</td>\n",
       "      <td>-82.758800</td>\n",
       "      <td>Residential</td>\n",
       "      <td>Masonry</td>\n",
       "      <td>1</td>\n",
       "    </tr>\n",
       "    <tr>\n",
       "      <th>791209</th>\n",
       "      <td>FL</td>\n",
       "      <td>PINELLAS COUNTY</td>\n",
       "      <td>173286.9</td>\n",
       "      <td>173286.90</td>\n",
       "      <td>0.0</td>\n",
       "      <td>0.0</td>\n",
       "      <td>173286.90</td>\n",
       "      <td>205527.97</td>\n",
       "      <td>0.0</td>\n",
       "      <td>0.0</td>\n",
       "      <td>0.0</td>\n",
       "      <td>0</td>\n",
       "      <td>28.110550</td>\n",
       "      <td>-82.766360</td>\n",
       "      <td>Residential</td>\n",
       "      <td>Wood</td>\n",
       "      <td>4</td>\n",
       "    </tr>\n",
       "    <tr>\n",
       "      <th>322627</th>\n",
       "      <td>FL</td>\n",
       "      <td>PINELLAS COUNTY</td>\n",
       "      <td>1499781.6</td>\n",
       "      <td>1499781.60</td>\n",
       "      <td>0.0</td>\n",
       "      <td>0.0</td>\n",
       "      <td>1499781.60</td>\n",
       "      <td>1768782.43</td>\n",
       "      <td>0.0</td>\n",
       "      <td>0.0</td>\n",
       "      <td>0.0</td>\n",
       "      <td>0</td>\n",
       "      <td>28.089415</td>\n",
       "      <td>-82.697411</td>\n",
       "      <td>Residential</td>\n",
       "      <td>Masonry</td>\n",
       "      <td>3</td>\n",
       "    </tr>\n",
       "    <tr>\n",
       "      <th>398149</th>\n",
       "      <td>FL</td>\n",
       "      <td>PINELLAS COUNTY</td>\n",
       "      <td>373488.3</td>\n",
       "      <td>373488.30</td>\n",
       "      <td>0.0</td>\n",
       "      <td>0.0</td>\n",
       "      <td>373488.30</td>\n",
       "      <td>596003.67</td>\n",
       "      <td>0.0</td>\n",
       "      <td>0.0</td>\n",
       "      <td>0.0</td>\n",
       "      <td>0</td>\n",
       "      <td>28.064440</td>\n",
       "      <td>-82.774590</td>\n",
       "      <td>Residential</td>\n",
       "      <td>Masonry</td>\n",
       "      <td>1</td>\n",
       "    </tr>\n",
       "  </tbody>\n",
       "</table>\n",
       "<p>36634 rows × 17 columns</p>\n",
       "</div>"
      ],
      "text/plain": [
       "         statecode           county  eq_site_limit  hu_site_limit  \\\n",
       "policyID                                                            \n",
       "119736          FL      CLAY COUNTY       498960.0      498960.00   \n",
       "448094          FL      CLAY COUNTY      1322376.3     1322376.30   \n",
       "206893          FL      CLAY COUNTY       190724.4      190724.40   \n",
       "333743          FL      CLAY COUNTY            0.0       79520.76   \n",
       "172534          FL      CLAY COUNTY            0.0      254281.50   \n",
       "...            ...              ...            ...            ...   \n",
       "404309          FL  PINELLAS COUNTY            0.0       88722.00   \n",
       "465875          FL  PINELLAS COUNTY      1297057.5     1297057.50   \n",
       "791209          FL  PINELLAS COUNTY       173286.9      173286.90   \n",
       "322627          FL  PINELLAS COUNTY      1499781.6     1499781.60   \n",
       "398149          FL  PINELLAS COUNTY       373488.3      373488.30   \n",
       "\n",
       "          fl_site_limit  fr_site_limit    tiv_2011    tiv_2012  \\\n",
       "policyID                                                         \n",
       "119736         498960.0       498960.0   498960.00   792148.90   \n",
       "448094        1322376.3      1322376.3  1322376.30  1438163.57   \n",
       "206893         190724.4       190724.4   190724.40   192476.78   \n",
       "333743              0.0            0.0    79520.76    86854.48   \n",
       "172534              0.0       254281.5   254281.50   246144.49   \n",
       "...                 ...            ...         ...         ...   \n",
       "404309              0.0        88722.0    88722.00   155065.65   \n",
       "465875        1297057.5      1297057.5  1297057.50  1577500.79   \n",
       "791209              0.0            0.0   173286.90   205527.97   \n",
       "322627              0.0            0.0  1499781.60  1768782.43   \n",
       "398149              0.0            0.0   373488.30   596003.67   \n",
       "\n",
       "          eq_site_deductible  hu_site_deductible  fl_site_deductible  \\\n",
       "policyID                                                               \n",
       "119736                   0.0              9979.2                 0.0   \n",
       "448094                   0.0                 0.0                 0.0   \n",
       "206893                   0.0                 0.0                 0.0   \n",
       "333743                   0.0                 0.0                 0.0   \n",
       "172534                   0.0                 0.0                 0.0   \n",
       "...                      ...                 ...                 ...   \n",
       "404309                   0.0                 0.0                 0.0   \n",
       "465875                   0.0                 0.0                 0.0   \n",
       "791209                   0.0                 0.0                 0.0   \n",
       "322627                   0.0                 0.0                 0.0   \n",
       "398149                   0.0                 0.0                 0.0   \n",
       "\n",
       "          fr_site_deductible  point_latitude  point_longitude         line  \\\n",
       "policyID                                                                     \n",
       "119736                     0       30.102261       -81.711777  Residential   \n",
       "448094                     0       30.063936       -81.707664  Residential   \n",
       "206893                     0       30.089579       -81.700455  Residential   \n",
       "333743                     0       30.063236       -81.707703  Residential   \n",
       "172534                     0       30.060614       -81.702675  Residential   \n",
       "...                      ...             ...              ...          ...   \n",
       "404309                     0       28.122885       -82.770218  Residential   \n",
       "465875                     0       28.080900       -82.758800  Residential   \n",
       "791209                     0       28.110550       -82.766360  Residential   \n",
       "322627                     0       28.089415       -82.697411  Residential   \n",
       "398149                     0       28.064440       -82.774590  Residential   \n",
       "\n",
       "         construction  point_granularity  \n",
       "policyID                                  \n",
       "119736        Masonry                  1  \n",
       "448094        Masonry                  3  \n",
       "206893           Wood                  1  \n",
       "333743           Wood                  3  \n",
       "172534           Wood                  1  \n",
       "...               ...                ...  \n",
       "404309           Wood                  3  \n",
       "465875        Masonry                  1  \n",
       "791209           Wood                  4  \n",
       "322627        Masonry                  3  \n",
       "398149        Masonry                  1  \n",
       "\n",
       "[36634 rows x 17 columns]"
      ]
     },
     "execution_count": 89,
     "metadata": {},
     "output_type": "execute_result"
    }
   ],
   "source": [
    "data_fl.set_index('policyID')"
   ]
  },
  {
   "cell_type": "code",
   "execution_count": 90,
   "metadata": {},
   "outputs": [
    {
     "data": {
      "text/html": [
       "<div>\n",
       "<style scoped>\n",
       "    .dataframe tbody tr th:only-of-type {\n",
       "        vertical-align: middle;\n",
       "    }\n",
       "\n",
       "    .dataframe tbody tr th {\n",
       "        vertical-align: top;\n",
       "    }\n",
       "\n",
       "    .dataframe thead th {\n",
       "        text-align: right;\n",
       "    }\n",
       "</style>\n",
       "<table border=\"1\" class=\"dataframe\">\n",
       "  <thead>\n",
       "    <tr style=\"text-align: right;\">\n",
       "      <th></th>\n",
       "      <th>policyID</th>\n",
       "      <th>statecode</th>\n",
       "      <th>county</th>\n",
       "      <th>eq_site_limit</th>\n",
       "      <th>hu_site_limit</th>\n",
       "      <th>fl_site_limit</th>\n",
       "      <th>fr_site_limit</th>\n",
       "      <th>tiv_2011</th>\n",
       "      <th>tiv_2012</th>\n",
       "      <th>eq_site_deductible</th>\n",
       "      <th>hu_site_deductible</th>\n",
       "      <th>fl_site_deductible</th>\n",
       "      <th>fr_site_deductible</th>\n",
       "      <th>point_latitude</th>\n",
       "      <th>point_longitude</th>\n",
       "      <th>line</th>\n",
       "      <th>construction</th>\n",
       "      <th>point_granularity</th>\n",
       "    </tr>\n",
       "  </thead>\n",
       "  <tbody>\n",
       "    <tr>\n",
       "      <th>0</th>\n",
       "      <td>119736</td>\n",
       "      <td>FL</td>\n",
       "      <td>CLAY COUNTY</td>\n",
       "      <td>498960.0</td>\n",
       "      <td>498960.00</td>\n",
       "      <td>498960.0</td>\n",
       "      <td>498960.0</td>\n",
       "      <td>498960.00</td>\n",
       "      <td>792148.90</td>\n",
       "      <td>0.0</td>\n",
       "      <td>9979.2</td>\n",
       "      <td>0.0</td>\n",
       "      <td>0</td>\n",
       "      <td>30.102261</td>\n",
       "      <td>-81.711777</td>\n",
       "      <td>Residential</td>\n",
       "      <td>Masonry</td>\n",
       "      <td>1</td>\n",
       "    </tr>\n",
       "    <tr>\n",
       "      <th>1</th>\n",
       "      <td>448094</td>\n",
       "      <td>FL</td>\n",
       "      <td>CLAY COUNTY</td>\n",
       "      <td>1322376.3</td>\n",
       "      <td>1322376.30</td>\n",
       "      <td>1322376.3</td>\n",
       "      <td>1322376.3</td>\n",
       "      <td>1322376.30</td>\n",
       "      <td>1438163.57</td>\n",
       "      <td>0.0</td>\n",
       "      <td>0.0</td>\n",
       "      <td>0.0</td>\n",
       "      <td>0</td>\n",
       "      <td>30.063936</td>\n",
       "      <td>-81.707664</td>\n",
       "      <td>Residential</td>\n",
       "      <td>Masonry</td>\n",
       "      <td>3</td>\n",
       "    </tr>\n",
       "    <tr>\n",
       "      <th>2</th>\n",
       "      <td>206893</td>\n",
       "      <td>FL</td>\n",
       "      <td>CLAY COUNTY</td>\n",
       "      <td>190724.4</td>\n",
       "      <td>190724.40</td>\n",
       "      <td>190724.4</td>\n",
       "      <td>190724.4</td>\n",
       "      <td>190724.40</td>\n",
       "      <td>192476.78</td>\n",
       "      <td>0.0</td>\n",
       "      <td>0.0</td>\n",
       "      <td>0.0</td>\n",
       "      <td>0</td>\n",
       "      <td>30.089579</td>\n",
       "      <td>-81.700455</td>\n",
       "      <td>Residential</td>\n",
       "      <td>Wood</td>\n",
       "      <td>1</td>\n",
       "    </tr>\n",
       "    <tr>\n",
       "      <th>3</th>\n",
       "      <td>333743</td>\n",
       "      <td>FL</td>\n",
       "      <td>CLAY COUNTY</td>\n",
       "      <td>0.0</td>\n",
       "      <td>79520.76</td>\n",
       "      <td>0.0</td>\n",
       "      <td>0.0</td>\n",
       "      <td>79520.76</td>\n",
       "      <td>86854.48</td>\n",
       "      <td>0.0</td>\n",
       "      <td>0.0</td>\n",
       "      <td>0.0</td>\n",
       "      <td>0</td>\n",
       "      <td>30.063236</td>\n",
       "      <td>-81.707703</td>\n",
       "      <td>Residential</td>\n",
       "      <td>Wood</td>\n",
       "      <td>3</td>\n",
       "    </tr>\n",
       "    <tr>\n",
       "      <th>4</th>\n",
       "      <td>172534</td>\n",
       "      <td>FL</td>\n",
       "      <td>CLAY COUNTY</td>\n",
       "      <td>0.0</td>\n",
       "      <td>254281.50</td>\n",
       "      <td>0.0</td>\n",
       "      <td>254281.5</td>\n",
       "      <td>254281.50</td>\n",
       "      <td>246144.49</td>\n",
       "      <td>0.0</td>\n",
       "      <td>0.0</td>\n",
       "      <td>0.0</td>\n",
       "      <td>0</td>\n",
       "      <td>30.060614</td>\n",
       "      <td>-81.702675</td>\n",
       "      <td>Residential</td>\n",
       "      <td>Wood</td>\n",
       "      <td>1</td>\n",
       "    </tr>\n",
       "  </tbody>\n",
       "</table>\n",
       "</div>"
      ],
      "text/plain": [
       "   policyID statecode       county  eq_site_limit  hu_site_limit  \\\n",
       "0    119736        FL  CLAY COUNTY       498960.0      498960.00   \n",
       "1    448094        FL  CLAY COUNTY      1322376.3     1322376.30   \n",
       "2    206893        FL  CLAY COUNTY       190724.4      190724.40   \n",
       "3    333743        FL  CLAY COUNTY            0.0       79520.76   \n",
       "4    172534        FL  CLAY COUNTY            0.0      254281.50   \n",
       "\n",
       "   fl_site_limit  fr_site_limit    tiv_2011    tiv_2012  eq_site_deductible  \\\n",
       "0       498960.0       498960.0   498960.00   792148.90                 0.0   \n",
       "1      1322376.3      1322376.3  1322376.30  1438163.57                 0.0   \n",
       "2       190724.4       190724.4   190724.40   192476.78                 0.0   \n",
       "3            0.0            0.0    79520.76    86854.48                 0.0   \n",
       "4            0.0       254281.5   254281.50   246144.49                 0.0   \n",
       "\n",
       "   hu_site_deductible  fl_site_deductible  fr_site_deductible  point_latitude  \\\n",
       "0              9979.2                 0.0                   0       30.102261   \n",
       "1                 0.0                 0.0                   0       30.063936   \n",
       "2                 0.0                 0.0                   0       30.089579   \n",
       "3                 0.0                 0.0                   0       30.063236   \n",
       "4                 0.0                 0.0                   0       30.060614   \n",
       "\n",
       "   point_longitude         line construction  point_granularity  \n",
       "0       -81.711777  Residential      Masonry                  1  \n",
       "1       -81.707664  Residential      Masonry                  3  \n",
       "2       -81.700455  Residential         Wood                  1  \n",
       "3       -81.707703  Residential         Wood                  3  \n",
       "4       -81.702675  Residential         Wood                  1  "
      ]
     },
     "execution_count": 90,
     "metadata": {},
     "output_type": "execute_result"
    }
   ],
   "source": [
    "data_fl.head()"
   ]
  },
  {
   "cell_type": "code",
   "execution_count": 108,
   "metadata": {},
   "outputs": [
    {
     "data": {
      "text/plain": [
       "policyID                   448094\n",
       "statecode                      FL\n",
       "county                CLAY COUNTY\n",
       "eq_site_limit         1.32238e+06\n",
       "hu_site_limit         1.32238e+06\n",
       "fl_site_limit         1.32238e+06\n",
       "fr_site_limit         1.32238e+06\n",
       "tiv_2011              1.32238e+06\n",
       "tiv_2012              1.43816e+06\n",
       "eq_site_deductible              0\n",
       "hu_site_deductible              0\n",
       "fl_site_deductible              0\n",
       "fr_site_deductible              0\n",
       "point_latitude            30.0639\n",
       "point_longitude          -81.7077\n",
       "line                  Residential\n",
       "construction              Masonry\n",
       "point_granularity               3\n",
       "Name: 1, dtype: object"
      ]
     },
     "execution_count": 108,
     "metadata": {},
     "output_type": "execute_result"
    }
   ],
   "source": [
    "#row with index 1 and all the columns\n",
    "data_fl.iloc[1,:]"
   ]
  },
  {
   "cell_type": "code",
   "execution_count": 112,
   "metadata": {},
   "outputs": [
    {
     "data": {
      "text/plain": [
       "policyID                   448094\n",
       "statecode                      FL\n",
       "county                CLAY COUNTY\n",
       "eq_site_limit         1.32238e+06\n",
       "hu_site_limit         1.32238e+06\n",
       "fl_site_limit         1.32238e+06\n",
       "fr_site_limit         1.32238e+06\n",
       "tiv_2011              1.32238e+06\n",
       "tiv_2012              1.43816e+06\n",
       "eq_site_deductible              0\n",
       "hu_site_deductible              0\n",
       "fl_site_deductible              0\n",
       "fr_site_deductible              0\n",
       "point_latitude            30.0639\n",
       "point_longitude          -81.7077\n",
       "line                  Residential\n",
       "construction              Masonry\n",
       "point_granularity               3\n",
       "Name: 1, dtype: object"
      ]
     },
     "execution_count": 112,
     "metadata": {},
     "output_type": "execute_result"
    }
   ],
   "source": [
    "data_fl.loc[1,:]"
   ]
  },
  {
   "cell_type": "code",
   "execution_count": 113,
   "metadata": {},
   "outputs": [
    {
     "data": {
      "text/plain": [
       "'FL'"
      ]
     },
     "execution_count": 113,
     "metadata": {},
     "output_type": "execute_result"
    }
   ],
   "source": [
    "# row with index 1 and column with index 1\n",
    "data_fl.iloc[1,1]"
   ]
  },
  {
   "cell_type": "code",
   "execution_count": 116,
   "metadata": {},
   "outputs": [
    {
     "data": {
      "text/plain": [
       "3"
      ]
     },
     "execution_count": 116,
     "metadata": {},
     "output_type": "execute_result"
    }
   ],
   "source": [
    "data_fl.loc[1,'point_granularity']"
   ]
  },
  {
   "cell_type": "code",
   "execution_count": 117,
   "metadata": {},
   "outputs": [
    {
     "data": {
      "text/plain": [
       "statecode             FL\n",
       "county       CLAY COUNTY\n",
       "Name: 1, dtype: object"
      ]
     },
     "execution_count": 117,
     "metadata": {},
     "output_type": "execute_result"
    }
   ],
   "source": [
    "# row with index 1 and columns with index 1,2\n",
    "data_fl.iloc[1,1:3]"
   ]
  },
  {
   "cell_type": "code",
   "execution_count": 120,
   "metadata": {},
   "outputs": [
    {
     "data": {
      "text/plain": [
       "policyID          448094\n",
       "statecode             FL\n",
       "county       CLAY COUNTY\n",
       "Name: 1, dtype: object"
      ]
     },
     "execution_count": 120,
     "metadata": {},
     "output_type": "execute_result"
    }
   ],
   "source": [
    "data_fl.loc[1,'policyID':'county']"
   ]
  },
  {
   "cell_type": "code",
   "execution_count": 126,
   "metadata": {},
   "outputs": [
    {
     "data": {
      "text/html": [
       "<div>\n",
       "<style scoped>\n",
       "    .dataframe tbody tr th:only-of-type {\n",
       "        vertical-align: middle;\n",
       "    }\n",
       "\n",
       "    .dataframe tbody tr th {\n",
       "        vertical-align: top;\n",
       "    }\n",
       "\n",
       "    .dataframe thead th {\n",
       "        text-align: right;\n",
       "    }\n",
       "</style>\n",
       "<table border=\"1\" class=\"dataframe\">\n",
       "  <thead>\n",
       "    <tr style=\"text-align: right;\">\n",
       "      <th></th>\n",
       "      <th>statecode</th>\n",
       "      <th>county</th>\n",
       "    </tr>\n",
       "  </thead>\n",
       "  <tbody>\n",
       "    <tr>\n",
       "      <th>1</th>\n",
       "      <td>FL</td>\n",
       "      <td>CLAY COUNTY</td>\n",
       "    </tr>\n",
       "    <tr>\n",
       "      <th>2</th>\n",
       "      <td>FL</td>\n",
       "      <td>CLAY COUNTY</td>\n",
       "    </tr>\n",
       "    <tr>\n",
       "      <th>3</th>\n",
       "      <td>FL</td>\n",
       "      <td>CLAY COUNTY</td>\n",
       "    </tr>\n",
       "  </tbody>\n",
       "</table>\n",
       "</div>"
      ],
      "text/plain": [
       "  statecode       county\n",
       "1        FL  CLAY COUNTY\n",
       "2        FL  CLAY COUNTY\n",
       "3        FL  CLAY COUNTY"
      ]
     },
     "execution_count": 126,
     "metadata": {},
     "output_type": "execute_result"
    }
   ],
   "source": [
    "# rows with indices 1,2,3\n",
    "# columns with indices 1,2\n",
    "data_fl.iloc[1:4,1:3]"
   ]
  },
  {
   "cell_type": "code",
   "execution_count": 124,
   "metadata": {},
   "outputs": [
    {
     "data": {
      "text/html": [
       "<div>\n",
       "<style scoped>\n",
       "    .dataframe tbody tr th:only-of-type {\n",
       "        vertical-align: middle;\n",
       "    }\n",
       "\n",
       "    .dataframe tbody tr th {\n",
       "        vertical-align: top;\n",
       "    }\n",
       "\n",
       "    .dataframe thead th {\n",
       "        text-align: right;\n",
       "    }\n",
       "</style>\n",
       "<table border=\"1\" class=\"dataframe\">\n",
       "  <thead>\n",
       "    <tr style=\"text-align: right;\">\n",
       "      <th></th>\n",
       "      <th>policyID</th>\n",
       "      <th>statecode</th>\n",
       "    </tr>\n",
       "  </thead>\n",
       "  <tbody>\n",
       "    <tr>\n",
       "      <th>1</th>\n",
       "      <td>448094</td>\n",
       "      <td>FL</td>\n",
       "    </tr>\n",
       "    <tr>\n",
       "      <th>2</th>\n",
       "      <td>206893</td>\n",
       "      <td>FL</td>\n",
       "    </tr>\n",
       "    <tr>\n",
       "      <th>3</th>\n",
       "      <td>333743</td>\n",
       "      <td>FL</td>\n",
       "    </tr>\n",
       "    <tr>\n",
       "      <th>4</th>\n",
       "      <td>172534</td>\n",
       "      <td>FL</td>\n",
       "    </tr>\n",
       "  </tbody>\n",
       "</table>\n",
       "</div>"
      ],
      "text/plain": [
       "   policyID statecode\n",
       "1    448094        FL\n",
       "2    206893        FL\n",
       "3    333743        FL\n",
       "4    172534        FL"
      ]
     },
     "execution_count": 124,
     "metadata": {},
     "output_type": "execute_result"
    }
   ],
   "source": [
    "data_fl.loc[1:4,'policyID':'statecode']"
   ]
  },
  {
   "cell_type": "code",
   "execution_count": 101,
   "metadata": {},
   "outputs": [
    {
     "name": "stdout",
     "output_type": "stream",
     "text": [
      "   policyID  point_granularity\n",
      "1    448094                  3\n",
      "2    206893                  1\n",
      "3    333743                  3\n",
      "<class 'pandas.core.frame.DataFrame'>\n"
     ]
    }
   ],
   "source": [
    "# rows with indices 1,2,3\n",
    "# columns with indices 1,2\n",
    "df4 = pd.DataFrame(data_fl, columns= ['policyID','point_granularity'], index=[1,2,3])\n",
    "print(df4)\n",
    "print(type(df4))"
   ]
  }
 ],
 "metadata": {
  "kernelspec": {
   "display_name": "Python 3",
   "language": "python",
   "name": "python3"
  },
  "language_info": {
   "codemirror_mode": {
    "name": "ipython",
    "version": 3
   },
   "file_extension": ".py",
   "mimetype": "text/x-python",
   "name": "python",
   "nbconvert_exporter": "python",
   "pygments_lexer": "ipython3",
   "version": "3.6.5"
  }
 },
 "nbformat": 4,
 "nbformat_minor": 2
}
