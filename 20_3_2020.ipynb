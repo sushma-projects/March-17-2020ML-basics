{
  "nbformat": 4,
  "nbformat_minor": 0,
  "metadata": {
    "colab": {
      "name": "20-3-2020.ipynb",
      "provenance": []
    },
    "kernelspec": {
      "name": "python3",
      "display_name": "Python 3"
    }
  },
  "cells": [
    {
      "cell_type": "code",
      "metadata": {
        "id": "zWnN8rbLQdRI",
        "colab_type": "code",
        "outputId": "8cbbbdc4-a4f5-4289-c750-a11e73449d0e",
        "colab": {
          "base_uri": "https://localhost:8080/",
          "height": 34
        }
      },
      "source": [
        "import numpy as np\n",
        "a = np.arange(10)\n",
        "a"
      ],
      "execution_count": 0,
      "outputs": [
        {
          "output_type": "execute_result",
          "data": {
            "text/plain": [
              "array([0, 1, 2, 3, 4, 5, 6, 7, 8, 9])"
            ]
          },
          "metadata": {
            "tags": []
          },
          "execution_count": 1
        }
      ]
    },
    {
      "cell_type": "code",
      "metadata": {
        "id": "aOokg2mEQpcb",
        "colab_type": "code",
        "outputId": "3d2ea6c7-9449-4c5f-e39e-f277e2210420",
        "colab": {
          "base_uri": "https://localhost:8080/",
          "height": 34
        }
      },
      "source": [
        "# How to do slicing\n",
        "print(a[1:5])"
      ],
      "execution_count": 0,
      "outputs": [
        {
          "output_type": "stream",
          "text": [
            "[1 2 3 4]\n"
          ],
          "name": "stdout"
        }
      ]
    },
    {
      "cell_type": "code",
      "metadata": {
        "id": "c1Wq9hW9RAfl",
        "colab_type": "code",
        "outputId": "df8468a0-77cc-4c09-8439-947dbbb2cdf2",
        "colab": {
          "base_uri": "https://localhost:8080/",
          "height": 34
        }
      },
      "source": [
        "print(a[1:6:2])"
      ],
      "execution_count": 0,
      "outputs": [
        {
          "output_type": "stream",
          "text": [
            "[1 3 5]\n"
          ],
          "name": "stdout"
        }
      ]
    },
    {
      "cell_type": "code",
      "metadata": {
        "id": "3NDsPq7ARGz1",
        "colab_type": "code",
        "outputId": "cc5ebd2b-45e4-4c96-88d1-08feededa4bb",
        "colab": {
          "base_uri": "https://localhost:8080/",
          "height": 34
        }
      },
      "source": [
        "print(a[:])"
      ],
      "execution_count": 0,
      "outputs": [
        {
          "output_type": "stream",
          "text": [
            "[0 1 2 3 4 5 6 7 8 9]\n"
          ],
          "name": "stdout"
        }
      ]
    },
    {
      "cell_type": "code",
      "metadata": {
        "id": "d-3gTeLgRYFD",
        "colab_type": "code",
        "outputId": "e9a82c47-a2f7-4ed3-dce4-202c9ea1b0af",
        "colab": {
          "base_uri": "https://localhost:8080/",
          "height": 51
        }
      },
      "source": [
        "a>5"
      ],
      "execution_count": 0,
      "outputs": [
        {
          "output_type": "execute_result",
          "data": {
            "text/plain": [
              "array([False, False, False, False, False, False,  True,  True,  True,\n",
              "        True])"
            ]
          },
          "metadata": {
            "tags": []
          },
          "execution_count": 5
        }
      ]
    },
    {
      "cell_type": "code",
      "metadata": {
        "id": "S-b5Nl4kRc2B",
        "colab_type": "code",
        "outputId": "7fb7af7c-db70-4c27-b04c-7737ec4fe06f",
        "colab": {
          "base_uri": "https://localhost:8080/",
          "height": 34
        }
      },
      "source": [
        "#Fancy indexing or boolean indexing\n",
        "print(a[a>5])"
      ],
      "execution_count": 0,
      "outputs": [
        {
          "output_type": "stream",
          "text": [
            "[6 7 8 9]\n"
          ],
          "name": "stdout"
        }
      ]
    },
    {
      "cell_type": "code",
      "metadata": {
        "id": "GgEpOCq1Rw2-",
        "colab_type": "code",
        "outputId": "036e41c7-1066-40b6-bd20-e4926f270af3",
        "colab": {
          "base_uri": "https://localhost:8080/",
          "height": 34
        }
      },
      "source": [
        "a.shape"
      ],
      "execution_count": 0,
      "outputs": [
        {
          "output_type": "execute_result",
          "data": {
            "text/plain": [
              "(10,)"
            ]
          },
          "metadata": {
            "tags": []
          },
          "execution_count": 7
        }
      ]
    },
    {
      "cell_type": "code",
      "metadata": {
        "id": "39N1Di86SPiK",
        "colab_type": "code",
        "outputId": "cb7c0d0a-925b-41f4-a6af-0ef0543843f4",
        "colab": {
          "base_uri": "https://localhost:8080/",
          "height": 34
        }
      },
      "source": [
        "a.ndim"
      ],
      "execution_count": 0,
      "outputs": [
        {
          "output_type": "execute_result",
          "data": {
            "text/plain": [
              "1"
            ]
          },
          "metadata": {
            "tags": []
          },
          "execution_count": 9
        }
      ]
    },
    {
      "cell_type": "code",
      "metadata": {
        "id": "jqM9ocjgSSuK",
        "colab_type": "code",
        "colab": {}
      },
      "source": [
        "a1 = np.random.randint(10,30,(3,3))"
      ],
      "execution_count": 0,
      "outputs": []
    },
    {
      "cell_type": "code",
      "metadata": {
        "id": "RfolJg_wS0vo",
        "colab_type": "code",
        "outputId": "56af0878-4a9c-439e-c270-20392b18c757",
        "colab": {
          "base_uri": "https://localhost:8080/",
          "height": 68
        }
      },
      "source": [
        "a1\n"
      ],
      "execution_count": 0,
      "outputs": [
        {
          "output_type": "execute_result",
          "data": {
            "text/plain": [
              "array([[21, 25, 22],\n",
              "       [25, 22, 10],\n",
              "       [21, 18, 17]])"
            ]
          },
          "metadata": {
            "tags": []
          },
          "execution_count": 11
        }
      ]
    },
    {
      "cell_type": "code",
      "metadata": {
        "id": "0lV6eF9TS2LN",
        "colab_type": "code",
        "outputId": "4f187e83-b96a-42fd-a899-dfb0cd92c623",
        "colab": {
          "base_uri": "https://localhost:8080/",
          "height": 34
        }
      },
      "source": [
        "a1.ndim"
      ],
      "execution_count": 0,
      "outputs": [
        {
          "output_type": "execute_result",
          "data": {
            "text/plain": [
              "2"
            ]
          },
          "metadata": {
            "tags": []
          },
          "execution_count": 12
        }
      ]
    },
    {
      "cell_type": "code",
      "metadata": {
        "id": "OYJ9HeODS3zL",
        "colab_type": "code",
        "outputId": "a4e10f8a-d2fb-42da-fa49-812c901cf7bc",
        "colab": {
          "base_uri": "https://localhost:8080/",
          "height": 34
        }
      },
      "source": [
        "a1.shape"
      ],
      "execution_count": 0,
      "outputs": [
        {
          "output_type": "execute_result",
          "data": {
            "text/plain": [
              "(3, 3)"
            ]
          },
          "metadata": {
            "tags": []
          },
          "execution_count": 13
        }
      ]
    },
    {
      "cell_type": "code",
      "metadata": {
        "id": "jy3xKPQAS7Lx",
        "colab_type": "code",
        "outputId": "0d9c7e9b-34e0-4b03-b67e-93a349107592",
        "colab": {
          "base_uri": "https://localhost:8080/",
          "height": 34
        }
      },
      "source": [
        "for i in a1:\n",
        "  print(i)\n",
        "  break"
      ],
      "execution_count": 0,
      "outputs": [
        {
          "output_type": "stream",
          "text": [
            "[21 25 22]\n"
          ],
          "name": "stdout"
        }
      ]
    },
    {
      "cell_type": "code",
      "metadata": {
        "id": "OqlsEoALTDUd",
        "colab_type": "code",
        "outputId": "feba762a-597b-4110-ca8b-3bbd6d560dc3",
        "colab": {
          "base_uri": "https://localhost:8080/",
          "height": 68
        }
      },
      "source": [
        "for i in a1:\n",
        "  for j in i:\n",
        "    print(j,end=\" \")\n",
        "  print()"
      ],
      "execution_count": 0,
      "outputs": [
        {
          "output_type": "stream",
          "text": [
            "21 25 22 \n",
            "25 22 10 \n",
            "21 18 17 \n"
          ],
          "name": "stdout"
        }
      ]
    },
    {
      "cell_type": "code",
      "metadata": {
        "id": "YWrDRDzMTUS8",
        "colab_type": "code",
        "outputId": "1cdce444-118e-449e-90eb-ef988539fcc9",
        "colab": {
          "base_uri": "https://localhost:8080/",
          "height": 51
        }
      },
      "source": [
        "print(a1[1:],type(a1[1:]),a1[1:].shape)"
      ],
      "execution_count": 0,
      "outputs": [
        {
          "output_type": "stream",
          "text": [
            "[[25 22 10]\n",
            " [21 18 17]] <class 'numpy.ndarray'> (2, 3)\n"
          ],
          "name": "stdout"
        }
      ]
    },
    {
      "cell_type": "code",
      "metadata": {
        "id": "6p2PlZ_YTp0_",
        "colab_type": "code",
        "outputId": "607c2ff5-6149-4294-e56c-db94049fa656",
        "colab": {
          "base_uri": "https://localhost:8080/",
          "height": 34
        }
      },
      "source": [
        "print(a1[0],type(a1[0]),a1[0].shape)"
      ],
      "execution_count": 0,
      "outputs": [
        {
          "output_type": "stream",
          "text": [
            "[21 25 22] <class 'numpy.ndarray'> (3,)\n"
          ],
          "name": "stdout"
        }
      ]
    },
    {
      "cell_type": "code",
      "metadata": {
        "id": "UmdVw4PcT6xf",
        "colab_type": "code",
        "outputId": "bed4ec78-4a3b-430e-d6a3-7ff3508dd7e8",
        "colab": {
          "base_uri": "https://localhost:8080/",
          "height": 51
        }
      },
      "source": [
        "#rows from 0 to 2\n",
        "#cols from 0 to 3\n",
        "#1st row and 2nd column\n",
        "print(a1[1][2])\n",
        "print(a1[1,2])"
      ],
      "execution_count": 0,
      "outputs": [
        {
          "output_type": "stream",
          "text": [
            "10\n",
            "10\n"
          ],
          "name": "stdout"
        }
      ]
    },
    {
      "cell_type": "code",
      "metadata": {
        "id": "Q2WuqWagVWxa",
        "colab_type": "code",
        "outputId": "2201d529-1ff5-4eb6-f72e-32c2815b3440",
        "colab": {
          "base_uri": "https://localhost:8080/",
          "height": 51
        }
      },
      "source": [
        "print(a1[1:3,0:2])"
      ],
      "execution_count": 0,
      "outputs": [
        {
          "output_type": "stream",
          "text": [
            "[[25 22]\n",
            " [21 18]]\n"
          ],
          "name": "stdout"
        }
      ]
    },
    {
      "cell_type": "code",
      "metadata": {
        "id": "fm2WbljqVieh",
        "colab_type": "code",
        "outputId": "c2653d28-20fe-4f35-bb29-2b848971d3a5",
        "colab": {
          "base_uri": "https://localhost:8080/",
          "height": 68
        }
      },
      "source": [
        "print(a1)"
      ],
      "execution_count": 0,
      "outputs": [
        {
          "output_type": "stream",
          "text": [
            "[[21 25 22]\n",
            " [25 22 10]\n",
            " [21 18 17]]\n"
          ],
          "name": "stdout"
        }
      ]
    },
    {
      "cell_type": "code",
      "metadata": {
        "id": "m9UlMS2RVl_e",
        "colab_type": "code",
        "outputId": "963edb13-7004-4992-aa1a-fa7826be1794",
        "colab": {
          "base_uri": "https://localhost:8080/",
          "height": 34
        }
      },
      "source": [
        "print(a1[1::2,2])"
      ],
      "execution_count": 0,
      "outputs": [
        {
          "output_type": "stream",
          "text": [
            "[10]\n"
          ],
          "name": "stdout"
        }
      ]
    },
    {
      "cell_type": "code",
      "metadata": {
        "id": "-olMafh5V0W6",
        "colab_type": "code",
        "outputId": "d2799439-e080-4fe3-cc85-71235ebdd9df",
        "colab": {
          "base_uri": "https://localhost:8080/",
          "height": 34
        }
      },
      "source": [
        "print(a1[1::2,0:5:2])"
      ],
      "execution_count": 0,
      "outputs": [
        {
          "output_type": "stream",
          "text": [
            "[[25 10]]\n"
          ],
          "name": "stdout"
        }
      ]
    },
    {
      "cell_type": "code",
      "metadata": {
        "id": "wd2bztQ1WBa9",
        "colab_type": "code",
        "outputId": "cafb335c-160a-49b7-d949-ff5511674aa2",
        "colab": {
          "base_uri": "https://localhost:8080/",
          "height": 510
        }
      },
      "source": [
        "a3 = np.random.randint(10,100,(5,5,3))\n",
        "print(a3)"
      ],
      "execution_count": 0,
      "outputs": [
        {
          "output_type": "stream",
          "text": [
            "[[[23 38 93]\n",
            "  [12 80 95]\n",
            "  [53 31 44]\n",
            "  [72 53 85]\n",
            "  [32 17 88]]\n",
            "\n",
            " [[20 83 81]\n",
            "  [76 27 86]\n",
            "  [85 79 66]\n",
            "  [49 94 67]\n",
            "  [87 92 35]]\n",
            "\n",
            " [[79 20 19]\n",
            "  [17 64 43]\n",
            "  [61 36 54]\n",
            "  [51 61 46]\n",
            "  [60 60 14]]\n",
            "\n",
            " [[22 53 96]\n",
            "  [90 18 77]\n",
            "  [79 69 98]\n",
            "  [66 40 61]\n",
            "  [50 77 97]]\n",
            "\n",
            " [[22 51 98]\n",
            "  [63 53 69]\n",
            "  [58 34 58]\n",
            "  [15 64 27]\n",
            "  [90 29 59]]]\n"
          ],
          "name": "stdout"
        }
      ]
    },
    {
      "cell_type": "code",
      "metadata": {
        "id": "oHDRCUFXY8S8",
        "colab_type": "code",
        "outputId": "e142b4fb-33a0-4fa5-ea54-e0e7ee7ef517",
        "colab": {
          "base_uri": "https://localhost:8080/",
          "height": 204
        }
      },
      "source": [
        "print(a3[:2])"
      ],
      "execution_count": 0,
      "outputs": [
        {
          "output_type": "stream",
          "text": [
            "[[[23 38 93]\n",
            "  [12 80 95]\n",
            "  [53 31 44]\n",
            "  [72 53 85]\n",
            "  [32 17 88]]\n",
            "\n",
            " [[20 83 81]\n",
            "  [76 27 86]\n",
            "  [85 79 66]\n",
            "  [49 94 67]\n",
            "  [87 92 35]]]\n"
          ],
          "name": "stdout"
        }
      ]
    },
    {
      "cell_type": "code",
      "metadata": {
        "id": "Z2WgGcJQZlYY",
        "colab_type": "code",
        "outputId": "3d35ca71-3820-4c8c-983e-4c82f01be981",
        "colab": {
          "base_uri": "https://localhost:8080/",
          "height": 306
        }
      },
      "source": [
        "print(a3[::2])"
      ],
      "execution_count": 0,
      "outputs": [
        {
          "output_type": "stream",
          "text": [
            "[[[23 38 93]\n",
            "  [12 80 95]\n",
            "  [53 31 44]\n",
            "  [72 53 85]\n",
            "  [32 17 88]]\n",
            "\n",
            " [[79 20 19]\n",
            "  [17 64 43]\n",
            "  [61 36 54]\n",
            "  [51 61 46]\n",
            "  [60 60 14]]\n",
            "\n",
            " [[22 51 98]\n",
            "  [63 53 69]\n",
            "  [58 34 58]\n",
            "  [15 64 27]\n",
            "  [90 29 59]]]\n"
          ],
          "name": "stdout"
        }
      ]
    },
    {
      "cell_type": "code",
      "metadata": {
        "id": "q2Y6VcSUZobg",
        "colab_type": "code",
        "outputId": "c017bac3-ca56-4173-c66d-b59b53da5b46",
        "colab": {
          "base_uri": "https://localhost:8080/",
          "height": 102
        }
      },
      "source": [
        "print(a3[1:3,0:2])"
      ],
      "execution_count": 0,
      "outputs": [
        {
          "output_type": "stream",
          "text": [
            "[[[20 83 81]\n",
            "  [76 27 86]]\n",
            "\n",
            " [[79 20 19]\n",
            "  [17 64 43]]]\n"
          ],
          "name": "stdout"
        }
      ]
    },
    {
      "cell_type": "code",
      "metadata": {
        "id": "y9WUsBTHaE6K",
        "colab_type": "code",
        "outputId": "e8661f88-9349-43e7-f932-255b52e26ce7",
        "colab": {
          "base_uri": "https://localhost:8080/",
          "height": 51
        }
      },
      "source": [
        "print(a3[1::2,2])"
      ],
      "execution_count": 0,
      "outputs": [
        {
          "output_type": "stream",
          "text": [
            "[[85 79 66]\n",
            " [79 69 98]]\n"
          ],
          "name": "stdout"
        }
      ]
    },
    {
      "cell_type": "code",
      "metadata": {
        "id": "5jR9gkqcaG6u",
        "colab_type": "code",
        "outputId": "1f7822d2-552f-4c9d-c354-2129ac56d401",
        "colab": {
          "base_uri": "https://localhost:8080/",
          "height": 136
        }
      },
      "source": [
        "print(a3[1::2,0:5:2])"
      ],
      "execution_count": 0,
      "outputs": [
        {
          "output_type": "stream",
          "text": [
            "[[[20 83 81]\n",
            "  [85 79 66]\n",
            "  [87 92 35]]\n",
            "\n",
            " [[22 53 96]\n",
            "  [79 69 98]\n",
            "  [50 77 97]]]\n"
          ],
          "name": "stdout"
        }
      ]
    },
    {
      "cell_type": "code",
      "metadata": {
        "id": "RanEWaUVaLEo",
        "colab_type": "code",
        "outputId": "ea4f90aa-9192-4a1d-be8f-d994f2978b62",
        "colab": {
          "base_uri": "https://localhost:8080/",
          "height": 34
        }
      },
      "source": [
        "#boolean indexing\n",
        "a3[a3==83]"
      ],
      "execution_count": 0,
      "outputs": [
        {
          "output_type": "execute_result",
          "data": {
            "text/plain": [
              "array([83])"
            ]
          },
          "metadata": {
            "tags": []
          },
          "execution_count": 34
        }
      ]
    },
    {
      "cell_type": "code",
      "metadata": {
        "id": "epjPhb16aRxk",
        "colab_type": "code",
        "outputId": "79c40651-e69c-4618-d8a7-62b397f18bf7",
        "colab": {
          "base_uri": "https://localhost:8080/",
          "height": 68
        }
      },
      "source": [
        "a3[a3>50]"
      ],
      "execution_count": 0,
      "outputs": [
        {
          "output_type": "execute_result",
          "data": {
            "text/plain": [
              "array([93, 80, 95, 53, 72, 53, 85, 88, 83, 81, 76, 86, 85, 79, 66, 94, 67,\n",
              "       87, 92, 79, 64, 61, 54, 51, 61, 60, 60, 53, 96, 90, 77, 79, 69, 98,\n",
              "       66, 61, 77, 97, 51, 98, 63, 53, 69, 58, 58, 64, 90, 59])"
            ]
          },
          "metadata": {
            "tags": []
          },
          "execution_count": 35
        }
      ]
    },
    {
      "cell_type": "code",
      "metadata": {
        "id": "K3Yv1qtNaalX",
        "colab_type": "code",
        "outputId": "bd6ae6f9-3460-47ad-968d-1bbc567be426",
        "colab": {
          "base_uri": "https://localhost:8080/",
          "height": 51
        }
      },
      "source": [
        "a3[(a3>50)&(a3<70)]"
      ],
      "execution_count": 0,
      "outputs": [
        {
          "output_type": "execute_result",
          "data": {
            "text/plain": [
              "array([53, 53, 66, 67, 64, 61, 54, 51, 61, 60, 60, 53, 69, 66, 61, 51, 63,\n",
              "       53, 69, 58, 58, 64, 59])"
            ]
          },
          "metadata": {
            "tags": []
          },
          "execution_count": 36
        }
      ]
    },
    {
      "cell_type": "code",
      "metadata": {
        "id": "jxpiKs-gai5E",
        "colab_type": "code",
        "outputId": "56a9a413-17cf-4bb6-cf8e-b90f51f161ae",
        "colab": {
          "base_uri": "https://localhost:8080/",
          "height": 102
        }
      },
      "source": [
        "a3[(a3>50)|(a3<70)]"
      ],
      "execution_count": 0,
      "outputs": [
        {
          "output_type": "execute_result",
          "data": {
            "text/plain": [
              "array([23, 38, 93, 12, 80, 95, 53, 31, 44, 72, 53, 85, 32, 17, 88, 20, 83,\n",
              "       81, 76, 27, 86, 85, 79, 66, 49, 94, 67, 87, 92, 35, 79, 20, 19, 17,\n",
              "       64, 43, 61, 36, 54, 51, 61, 46, 60, 60, 14, 22, 53, 96, 90, 18, 77,\n",
              "       79, 69, 98, 66, 40, 61, 50, 77, 97, 22, 51, 98, 63, 53, 69, 58, 34,\n",
              "       58, 15, 64, 27, 90, 29, 59])"
            ]
          },
          "metadata": {
            "tags": []
          },
          "execution_count": 37
        }
      ]
    },
    {
      "cell_type": "code",
      "metadata": {
        "id": "ansl9bEJaptH",
        "colab_type": "code",
        "colab": {}
      },
      "source": [
        "L = list(range(100))"
      ],
      "execution_count": 0,
      "outputs": []
    },
    {
      "cell_type": "code",
      "metadata": {
        "id": "liV0tePFawyo",
        "colab_type": "code",
        "outputId": "2a0feabf-6054-4151-e1ce-dd2275189cde",
        "colab": {
          "base_uri": "https://localhost:8080/",
          "height": 1000
        }
      },
      "source": [
        "L"
      ],
      "execution_count": 0,
      "outputs": [
        {
          "output_type": "execute_result",
          "data": {
            "text/plain": [
              "[0,\n",
              " 1,\n",
              " 2,\n",
              " 3,\n",
              " 4,\n",
              " 5,\n",
              " 6,\n",
              " 7,\n",
              " 8,\n",
              " 9,\n",
              " 10,\n",
              " 11,\n",
              " 12,\n",
              " 13,\n",
              " 14,\n",
              " 15,\n",
              " 16,\n",
              " 17,\n",
              " 18,\n",
              " 19,\n",
              " 20,\n",
              " 21,\n",
              " 22,\n",
              " 23,\n",
              " 24,\n",
              " 25,\n",
              " 26,\n",
              " 27,\n",
              " 28,\n",
              " 29,\n",
              " 30,\n",
              " 31,\n",
              " 32,\n",
              " 33,\n",
              " 34,\n",
              " 35,\n",
              " 36,\n",
              " 37,\n",
              " 38,\n",
              " 39,\n",
              " 40,\n",
              " 41,\n",
              " 42,\n",
              " 43,\n",
              " 44,\n",
              " 45,\n",
              " 46,\n",
              " 47,\n",
              " 48,\n",
              " 49,\n",
              " 50,\n",
              " 51,\n",
              " 52,\n",
              " 53,\n",
              " 54,\n",
              " 55,\n",
              " 56,\n",
              " 57,\n",
              " 58,\n",
              " 59,\n",
              " 60,\n",
              " 61,\n",
              " 62,\n",
              " 63,\n",
              " 64,\n",
              " 65,\n",
              " 66,\n",
              " 67,\n",
              " 68,\n",
              " 69,\n",
              " 70,\n",
              " 71,\n",
              " 72,\n",
              " 73,\n",
              " 74,\n",
              " 75,\n",
              " 76,\n",
              " 77,\n",
              " 78,\n",
              " 79,\n",
              " 80,\n",
              " 81,\n",
              " 82,\n",
              " 83,\n",
              " 84,\n",
              " 85,\n",
              " 86,\n",
              " 87,\n",
              " 88,\n",
              " 89,\n",
              " 90,\n",
              " 91,\n",
              " 92,\n",
              " 93,\n",
              " 94,\n",
              " 95,\n",
              " 96,\n",
              " 97,\n",
              " 98,\n",
              " 99]"
            ]
          },
          "metadata": {
            "tags": []
          },
          "execution_count": 39
        }
      ]
    },
    {
      "cell_type": "code",
      "metadata": {
        "id": "S315Dd_3ax04",
        "colab_type": "code",
        "outputId": "60209486-3ba6-49be-9071-11c07edd74cd",
        "colab": {
          "base_uri": "https://localhost:8080/",
          "height": 34
        }
      },
      "source": [
        "aL = np.array(L)\n",
        "aL[[1,13,56,74,32,54,12]]"
      ],
      "execution_count": 0,
      "outputs": [
        {
          "output_type": "execute_result",
          "data": {
            "text/plain": [
              "array([ 1, 13, 56, 74, 32, 54, 12])"
            ]
          },
          "metadata": {
            "tags": []
          },
          "execution_count": 41
        }
      ]
    },
    {
      "cell_type": "code",
      "metadata": {
        "id": "nShMzC_rbPoX",
        "colab_type": "code",
        "outputId": "b927f436-dbfb-454a-e1bf-f1b9ce6a8918",
        "colab": {
          "base_uri": "https://localhost:8080/",
          "height": 68
        }
      },
      "source": [
        "a1"
      ],
      "execution_count": 0,
      "outputs": [
        {
          "output_type": "execute_result",
          "data": {
            "text/plain": [
              "array([[21, 25, 22],\n",
              "       [25, 22, 10],\n",
              "       [21, 18, 17]])"
            ]
          },
          "metadata": {
            "tags": []
          },
          "execution_count": 42
        }
      ]
    },
    {
      "cell_type": "code",
      "metadata": {
        "id": "xI_1yyWFbaPd",
        "colab_type": "code",
        "outputId": "c0670508-c949-477b-e78f-7136f7c258d3",
        "colab": {
          "base_uri": "https://localhost:8080/",
          "height": 34
        }
      },
      "source": [
        "a1[[1,2],[0,1]] #(1,0)(2,1)"
      ],
      "execution_count": 0,
      "outputs": [
        {
          "output_type": "execute_result",
          "data": {
            "text/plain": [
              "array([25, 18])"
            ]
          },
          "metadata": {
            "tags": []
          },
          "execution_count": 44
        }
      ]
    },
    {
      "cell_type": "code",
      "metadata": {
        "id": "k5li6EnXblMz",
        "colab_type": "code",
        "outputId": "b20cf476-0c82-4108-b9a1-6eb4cedf1f63",
        "colab": {
          "base_uri": "https://localhost:8080/",
          "height": 34
        }
      },
      "source": [
        "print(a3[[1,2],[1,2],[1,2]])#(1,1,1)(2,2,2)"
      ],
      "execution_count": 0,
      "outputs": [
        {
          "output_type": "stream",
          "text": [
            "[27 54]\n"
          ],
          "name": "stdout"
        }
      ]
    },
    {
      "cell_type": "code",
      "metadata": {
        "id": "iouGEoZwb9nr",
        "colab_type": "code",
        "outputId": "07ad2219-7aad-4f84-b6a1-e744a73050d0",
        "colab": {
          "base_uri": "https://localhost:8080/",
          "height": 34
        }
      },
      "source": [
        "print(a3[1,1,1])"
      ],
      "execution_count": 0,
      "outputs": [
        {
          "output_type": "stream",
          "text": [
            "27\n"
          ],
          "name": "stdout"
        }
      ]
    },
    {
      "cell_type": "code",
      "metadata": {
        "id": "PtmG5lqXcEw3",
        "colab_type": "code",
        "outputId": "bca921be-e704-4bf4-af38-431ea773a731",
        "colab": {
          "base_uri": "https://localhost:8080/",
          "height": 34
        }
      },
      "source": [
        "print(a3[2,2,2])"
      ],
      "execution_count": 0,
      "outputs": [
        {
          "output_type": "stream",
          "text": [
            "54\n"
          ],
          "name": "stdout"
        }
      ]
    },
    {
      "cell_type": "code",
      "metadata": {
        "id": "1mpDjLKScHD3",
        "colab_type": "code",
        "outputId": "99dbae86-8d9e-4ce4-b679-1122e2f672b5",
        "colab": {
          "base_uri": "https://localhost:8080/",
          "height": 34
        }
      },
      "source": [
        "#Statistical Functions\n",
        "a = np.random.randint(20,30,5)\n",
        "a"
      ],
      "execution_count": 0,
      "outputs": [
        {
          "output_type": "execute_result",
          "data": {
            "text/plain": [
              "array([29, 25, 20, 26, 24])"
            ]
          },
          "metadata": {
            "tags": []
          },
          "execution_count": 52
        }
      ]
    },
    {
      "cell_type": "code",
      "metadata": {
        "id": "TKJ_uu_0cTRo",
        "colab_type": "code",
        "outputId": "4d452f83-9ea0-4398-e9e9-eca4e33fc2a4",
        "colab": {
          "base_uri": "https://localhost:8080/",
          "height": 51
        }
      },
      "source": [
        "print(np.mean(a)) #average\n",
        "print(np.sum(a)/np.size(a))"
      ],
      "execution_count": 0,
      "outputs": [
        {
          "output_type": "stream",
          "text": [
            "24.8\n",
            "24.8\n"
          ],
          "name": "stdout"
        }
      ]
    },
    {
      "cell_type": "code",
      "metadata": {
        "id": "U0nq9q8kcbLZ",
        "colab_type": "code",
        "outputId": "9fb78780-7e1a-4c91-d120-206e008ebeb7",
        "colab": {
          "base_uri": "https://localhost:8080/",
          "height": 34
        }
      },
      "source": [
        "# sorted a = [20,24,25,26,29]\n",
        "np.median(a)"
      ],
      "execution_count": 0,
      "outputs": [
        {
          "output_type": "execute_result",
          "data": {
            "text/plain": [
              "25.0"
            ]
          },
          "metadata": {
            "tags": []
          },
          "execution_count": 54
        }
      ]
    },
    {
      "cell_type": "code",
      "metadata": {
        "id": "ITMZk3Quc8LK",
        "colab_type": "code",
        "outputId": "a879353c-752b-4bca-8cc8-2763316bc779",
        "colab": {
          "base_uri": "https://localhost:8080/",
          "height": 68
        }
      },
      "source": [
        "#Quantile\n",
        "print(np.quantile(a,0.25)) #median value of 1st part Q1\n",
        "print(np.quantile(a,0.5)) #median value of total points Q2\n",
        "print(np.quantile(a,0.75)) #median value of last part Q3"
      ],
      "execution_count": 0,
      "outputs": [
        {
          "output_type": "stream",
          "text": [
            "24.0\n",
            "25.0\n",
            "26.0\n"
          ],
          "name": "stdout"
        }
      ]
    },
    {
      "cell_type": "code",
      "metadata": {
        "id": "8TYDcK7FdvUJ",
        "colab_type": "code",
        "outputId": "91957da3-04fe-4b88-a780-87781ee63726",
        "colab": {
          "base_uri": "https://localhost:8080/",
          "height": 34
        }
      },
      "source": [
        "#Logarithmic and Exponential\n",
        "np.log(2) #log with base e"
      ],
      "execution_count": 0,
      "outputs": [
        {
          "output_type": "execute_result",
          "data": {
            "text/plain": [
              "0.6931471805599453"
            ]
          },
          "metadata": {
            "tags": []
          },
          "execution_count": 56
        }
      ]
    },
    {
      "cell_type": "code",
      "metadata": {
        "id": "GSVV-Zstd87s",
        "colab_type": "code",
        "outputId": "be738689-1e7c-456e-fdd0-838d9470f652",
        "colab": {
          "base_uri": "https://localhost:8080/",
          "height": 51
        }
      },
      "source": [
        "print(np.log2(2)) #log with base 2\n",
        "print(np.log10(2)) #log with base 10"
      ],
      "execution_count": 0,
      "outputs": [
        {
          "output_type": "stream",
          "text": [
            "1.0\n",
            "0.3010299956639812\n"
          ],
          "name": "stdout"
        }
      ]
    },
    {
      "cell_type": "code",
      "metadata": {
        "id": "OOkxQLnueDOK",
        "colab_type": "code",
        "outputId": "b679d092-829b-4426-c2d8-6fd4f4eeb38e",
        "colab": {
          "base_uri": "https://localhost:8080/",
          "height": 34
        }
      },
      "source": [
        "np.log(np.exp(1))"
      ],
      "execution_count": 0,
      "outputs": [
        {
          "output_type": "execute_result",
          "data": {
            "text/plain": [
              "1.0"
            ]
          },
          "metadata": {
            "tags": []
          },
          "execution_count": 58
        }
      ]
    },
    {
      "cell_type": "code",
      "metadata": {
        "id": "4JrhvrgueWN3",
        "colab_type": "code",
        "outputId": "5c922cce-e28e-4bcd-c1a4-05dc3ac79a29",
        "colab": {
          "base_uri": "https://localhost:8080/",
          "height": 68
        }
      },
      "source": [
        "np.log(0)"
      ],
      "execution_count": 0,
      "outputs": [
        {
          "output_type": "stream",
          "text": [
            "/usr/local/lib/python3.6/dist-packages/ipykernel_launcher.py:1: RuntimeWarning: divide by zero encountered in log\n",
            "  \"\"\"Entry point for launching an IPython kernel.\n"
          ],
          "name": "stderr"
        },
        {
          "output_type": "execute_result",
          "data": {
            "text/plain": [
              "-inf"
            ]
          },
          "metadata": {
            "tags": []
          },
          "execution_count": 61
        }
      ]
    },
    {
      "cell_type": "code",
      "metadata": {
        "id": "5lrBXFvre25I",
        "colab_type": "code",
        "outputId": "872af24d-7a12-4708-b54f-883741644a66",
        "colab": {
          "base_uri": "https://localhost:8080/",
          "height": 34
        }
      },
      "source": [
        "np.log(0+1)"
      ],
      "execution_count": 0,
      "outputs": [
        {
          "output_type": "execute_result",
          "data": {
            "text/plain": [
              "0.0"
            ]
          },
          "metadata": {
            "tags": []
          },
          "execution_count": 62
        }
      ]
    },
    {
      "cell_type": "code",
      "metadata": {
        "id": "7vN3_z3bfJJ2",
        "colab_type": "code",
        "outputId": "f9873a3a-8bf0-4377-b9a0-a71198522055",
        "colab": {
          "base_uri": "https://localhost:8080/",
          "height": 34
        }
      },
      "source": [
        "np.exp(1)"
      ],
      "execution_count": 0,
      "outputs": [
        {
          "output_type": "execute_result",
          "data": {
            "text/plain": [
              "2.718281828459045"
            ]
          },
          "metadata": {
            "tags": []
          },
          "execution_count": 63
        }
      ]
    },
    {
      "cell_type": "code",
      "metadata": {
        "id": "W16atADCfKr8",
        "colab_type": "code",
        "outputId": "0678b002-113f-4dd2-afba-8114c4d0535d",
        "colab": {
          "base_uri": "https://localhost:8080/",
          "height": 34
        }
      },
      "source": [
        "np.exp(2)"
      ],
      "execution_count": 0,
      "outputs": [
        {
          "output_type": "execute_result",
          "data": {
            "text/plain": [
              "7.38905609893065"
            ]
          },
          "metadata": {
            "tags": []
          },
          "execution_count": 64
        }
      ]
    },
    {
      "cell_type": "code",
      "metadata": {
        "id": "cbMEZJ_nfMH8",
        "colab_type": "code",
        "colab": {}
      },
      "source": [
        ""
      ],
      "execution_count": 0,
      "outputs": []
    }
  ]
}